{
  "nbformat": 4,
  "nbformat_minor": 0,
  "metadata": {
    "colab": {
      "name": "Assignment4.ipynb",
      "provenance": [],
      "collapsed_sections": [],
      "authorship_tag": "ABX9TyOjY1PBmnbGr2wvOgTYmmPK",
      "include_colab_link": true
    },
    "kernelspec": {
      "name": "python3",
      "display_name": "Python 3"
    },
    "language_info": {
      "name": "python"
    }
  },
  "cells": [
    {
      "cell_type": "markdown",
      "metadata": {
        "id": "view-in-github",
        "colab_type": "text"
      },
      "source": [
        "<a href=\"https://colab.research.google.com/github/ashwin6cs/Goeduhub-Tasks/blob/main/Assignment-4/Assignment4.ipynb\" target=\"_parent\"><img src=\"https://colab.research.google.com/assets/colab-badge.svg\" alt=\"Open In Colab\"/></a>"
      ]
    },
    {
      "cell_type": "markdown",
      "metadata": {
        "id": "tFUbwJHPQZbG"
      },
      "source": [
        "# **GO_STP_5856 - Ashwin S**"
      ]
    },
    {
      "cell_type": "markdown",
      "metadata": {
        "id": "20tMdtPjQYGP"
      },
      "source": [
        "# Assignment-4"
      ]
    },
    {
      "cell_type": "code",
      "metadata": {
        "id": "1bADhe2QQeyW"
      },
      "source": [
        "import numpy as np"
      ],
      "execution_count": 1,
      "outputs": []
    },
    {
      "cell_type": "markdown",
      "metadata": {
        "id": "8Uh3e_F3QYJm"
      },
      "source": [
        "### 1) Import the numpy package under the name np and Print the numpy version and the configuration "
      ]
    },
    {
      "cell_type": "code",
      "metadata": {
        "colab": {
          "base_uri": "https://localhost:8080/",
          "height": 0
        },
        "id": "rVlOvm56QhL0",
        "outputId": "aba21afc-f10e-469b-e7e6-821d6e1baddc"
      },
      "source": [
        "print(\"The numpy version is: \", np.__version__)\n",
        "print(\"\\t\")\n",
        "print(\"The numpy configuration is: \")\n",
        "print(np.__config__.show())"
      ],
      "execution_count": 2,
      "outputs": [
        {
          "output_type": "stream",
          "text": [
            "The numpy version is:  1.19.5\n",
            "\t\n",
            "The numpy configuration is: \n",
            "blas_mkl_info:\n",
            "  NOT AVAILABLE\n",
            "blis_info:\n",
            "  NOT AVAILABLE\n",
            "openblas_info:\n",
            "    libraries = ['openblas', 'openblas']\n",
            "    library_dirs = ['/usr/local/lib']\n",
            "    language = c\n",
            "    define_macros = [('HAVE_CBLAS', None)]\n",
            "blas_opt_info:\n",
            "    libraries = ['openblas', 'openblas']\n",
            "    library_dirs = ['/usr/local/lib']\n",
            "    language = c\n",
            "    define_macros = [('HAVE_CBLAS', None)]\n",
            "lapack_mkl_info:\n",
            "  NOT AVAILABLE\n",
            "openblas_lapack_info:\n",
            "    libraries = ['openblas', 'openblas']\n",
            "    library_dirs = ['/usr/local/lib']\n",
            "    language = c\n",
            "    define_macros = [('HAVE_CBLAS', None)]\n",
            "lapack_opt_info:\n",
            "    libraries = ['openblas', 'openblas']\n",
            "    library_dirs = ['/usr/local/lib']\n",
            "    language = c\n",
            "    define_macros = [('HAVE_CBLAS', None)]\n",
            "None\n"
          ],
          "name": "stdout"
        }
      ]
    },
    {
      "cell_type": "markdown",
      "metadata": {
        "id": "t9pdMKAgRgBM"
      },
      "source": [
        "### 2) Create a null vector of size 10"
      ]
    },
    {
      "cell_type": "code",
      "metadata": {
        "colab": {
          "base_uri": "https://localhost:8080/",
          "height": 0
        },
        "id": "0I3GO9ZqRkc0",
        "outputId": "6f28581a-34af-461e-aa25-16ffd91171cd"
      },
      "source": [
        "x = np.zeros(10)\n",
        "print(x)"
      ],
      "execution_count": 3,
      "outputs": [
        {
          "output_type": "stream",
          "text": [
            "[0. 0. 0. 0. 0. 0. 0. 0. 0. 0.]\n"
          ],
          "name": "stdout"
        }
      ]
    },
    {
      "cell_type": "markdown",
      "metadata": {
        "id": "mO-Z2peMRyr7"
      },
      "source": [
        "### 3) Create Simple 1-D array and check type and check data types in array"
      ]
    },
    {
      "cell_type": "code",
      "metadata": {
        "colab": {
          "base_uri": "https://localhost:8080/",
          "height": 0
        },
        "id": "YrvLzG26R2i3",
        "outputId": "51793106-4e57-411f-8264-7dd4279198fe"
      },
      "source": [
        "n = np.array([100, 200, 300, 400])\n",
        "print(n)\n",
        "print(n.dtype)"
      ],
      "execution_count": 4,
      "outputs": [
        {
          "output_type": "stream",
          "text": [
            "[100 200 300 400]\n",
            "int64\n"
          ],
          "name": "stdout"
        }
      ]
    },
    {
      "cell_type": "markdown",
      "metadata": {
        "id": "RiMCIZ9RSf9f"
      },
      "source": [
        "### 4) How to find number of dimensions, bytes per element and bytes of memory used?"
      ]
    },
    {
      "cell_type": "code",
      "metadata": {
        "colab": {
          "base_uri": "https://localhost:8080/",
          "height": 0
        },
        "id": "vZEx7f63SldF",
        "outputId": "b8174a38-5387-4998-e1dd-cf9128c4d042"
      },
      "source": [
        "n = np.array([100, 200, 300, 400])\n",
        "n.ndim"
      ],
      "execution_count": 5,
      "outputs": [
        {
          "output_type": "execute_result",
          "data": {
            "text/plain": [
              "1"
            ]
          },
          "metadata": {
            "tags": []
          },
          "execution_count": 5
        }
      ]
    },
    {
      "cell_type": "markdown",
      "metadata": {
        "id": "WxErBafPS6AE"
      },
      "source": [
        "### 5) Create a null vector of size 10 but the fifth value which is 1"
      ]
    },
    {
      "cell_type": "code",
      "metadata": {
        "id": "_butkXxqS_uT",
        "colab": {
          "base_uri": "https://localhost:8080/",
          "height": 0
        },
        "outputId": "582b253d-99eb-40ef-a7db-7c9a4ff0ed80"
      },
      "source": [
        "x = np.zeros(10)\n",
        "print(x)\n",
        "x[4]=1\n",
        "print(x)"
      ],
      "execution_count": 6,
      "outputs": [
        {
          "output_type": "stream",
          "text": [
            "[0. 0. 0. 0. 0. 0. 0. 0. 0. 0.]\n",
            "[0. 0. 0. 0. 1. 0. 0. 0. 0. 0.]\n"
          ],
          "name": "stdout"
        }
      ]
    },
    {
      "cell_type": "markdown",
      "metadata": {
        "id": "6SG5IZ_s2x06"
      },
      "source": [
        "### 6) Create a vector with values ranging from 10 to 49"
      ]
    },
    {
      "cell_type": "code",
      "metadata": {
        "colab": {
          "base_uri": "https://localhost:8080/",
          "height": 0
        },
        "id": "fnR44EjC29EW",
        "outputId": "3e84a574-1ffa-474c-dabe-410858cc50c5"
      },
      "source": [
        "a = np.arange(10,50)\n",
        "print(a)"
      ],
      "execution_count": 7,
      "outputs": [
        {
          "output_type": "stream",
          "text": [
            "[10 11 12 13 14 15 16 17 18 19 20 21 22 23 24 25 26 27 28 29 30 31 32 33\n",
            " 34 35 36 37 38 39 40 41 42 43 44 45 46 47 48 49]\n"
          ],
          "name": "stdout"
        }
      ]
    },
    {
      "cell_type": "markdown",
      "metadata": {
        "id": "tPBxf3C93JJf"
      },
      "source": [
        "### 7) Reverse a vector (first element becomes last)"
      ]
    },
    {
      "cell_type": "code",
      "metadata": {
        "colab": {
          "base_uri": "https://localhost:8080/",
          "height": 0
        },
        "id": "VSD58zTS3OLj",
        "outputId": "ceb6beee-494f-479a-be31-77f83d1a7a8e"
      },
      "source": [
        "a = np.asarray([1,2,3,4,5,6,7,8,9,10])\n",
        "a[::-1]"
      ],
      "execution_count": 8,
      "outputs": [
        {
          "output_type": "execute_result",
          "data": {
            "text/plain": [
              "array([10,  9,  8,  7,  6,  5,  4,  3,  2,  1])"
            ]
          },
          "metadata": {
            "tags": []
          },
          "execution_count": 8
        }
      ]
    },
    {
      "cell_type": "markdown",
      "metadata": {
        "id": "zmTjJ5W13f1p"
      },
      "source": [
        "### 8) Create a 3x3 matrix with values ranging from 0 to 8"
      ]
    },
    {
      "cell_type": "code",
      "metadata": {
        "colab": {
          "base_uri": "https://localhost:8080/",
          "height": 0
        },
        "id": "FryS-00K31wM",
        "outputId": "c0adf032-92e0-4c56-dbb1-6c04d335133e"
      },
      "source": [
        "x =  np.arange(0, 9).reshape(3,3)\n",
        "print(x)"
      ],
      "execution_count": 9,
      "outputs": [
        {
          "output_type": "stream",
          "text": [
            "[[0 1 2]\n",
            " [3 4 5]\n",
            " [6 7 8]]\n"
          ],
          "name": "stdout"
        }
      ]
    },
    {
      "cell_type": "markdown",
      "metadata": {
        "id": "2arYBmIuU7Ub"
      },
      "source": [
        "### 9) Find indices of non-zero elements from [1,2,0,0,4,0]"
      ]
    },
    {
      "cell_type": "code",
      "metadata": {
        "colab": {
          "base_uri": "https://localhost:8080/",
          "height": 0
        },
        "id": "KeknYx0dVGEN",
        "outputId": "ca0ccd0e-7447-4424-9fd8-62c220075eb8"
      },
      "source": [
        "print(\"Indices of non zero elements :\",np.nonzero([1,2,0,0,4,0]))"
      ],
      "execution_count": 12,
      "outputs": [
        {
          "output_type": "stream",
          "text": [
            "Indices of non zero elements : (array([0, 1, 4]),)\n"
          ],
          "name": "stdout"
        }
      ]
    },
    {
      "cell_type": "markdown",
      "metadata": {
        "id": "NvFLzNg3WNZy"
      },
      "source": [
        "### 10) Create a 3x3 identity matrix"
      ]
    },
    {
      "cell_type": "code",
      "metadata": {
        "colab": {
          "base_uri": "https://localhost:8080/",
          "height": 0
        },
        "id": "WlAmAPofWSXj",
        "outputId": "7c71d816-48d7-44fe-81fb-ef7426901b58"
      },
      "source": [
        "np. identity(3)"
      ],
      "execution_count": 13,
      "outputs": [
        {
          "output_type": "execute_result",
          "data": {
            "text/plain": [
              "array([[1., 0., 0.],\n",
              "       [0., 1., 0.],\n",
              "       [0., 0., 1.]])"
            ]
          },
          "metadata": {
            "tags": []
          },
          "execution_count": 13
        }
      ]
    },
    {
      "cell_type": "markdown",
      "metadata": {
        "id": "uXugAefcWbc6"
      },
      "source": [
        "### 11) Create a 3x3x3 array with random values"
      ]
    },
    {
      "cell_type": "code",
      "metadata": {
        "colab": {
          "base_uri": "https://localhost:8080/",
          "height": 0
        },
        "id": "jVFWZgkuWfuW",
        "outputId": "fe351148-405f-460b-9a8d-d0fc384caa8f"
      },
      "source": [
        "np.random.rand(3,3,3)"
      ],
      "execution_count": 14,
      "outputs": [
        {
          "output_type": "execute_result",
          "data": {
            "text/plain": [
              "array([[[0.42960378, 0.16099102, 0.50592921],\n",
              "        [0.87084065, 0.23620197, 0.94073536],\n",
              "        [0.77965716, 0.77517454, 0.39810145]],\n",
              "\n",
              "       [[0.08261043, 0.81271615, 0.5303792 ],\n",
              "        [0.43211013, 0.61352487, 0.25478224],\n",
              "        [0.46970828, 0.25019416, 0.73972747]],\n",
              "\n",
              "       [[0.63392141, 0.47181306, 0.62033515],\n",
              "        [0.02667348, 0.55229987, 0.19173192],\n",
              "        [0.67069659, 0.01102647, 0.34208456]]])"
            ]
          },
          "metadata": {
            "tags": []
          },
          "execution_count": 14
        }
      ]
    },
    {
      "cell_type": "markdown",
      "metadata": {
        "id": "UqzZAJ1DXKP3"
      },
      "source": [
        "### 12) Create a 10x10 array with random values and find the minimum and maximum values"
      ]
    },
    {
      "cell_type": "code",
      "metadata": {
        "colab": {
          "base_uri": "https://localhost:8080/",
          "height": 0
        },
        "id": "GcIGcKwzXOpx",
        "outputId": "7fabc58a-1e5f-424d-fe47-66406cc3d776"
      },
      "source": [
        "n=np.random.rand(10,10)\n",
        "print(\"The Maximum values is\",np.max(n))\n",
        "print(\"The Minimum values is\",np.min(n))"
      ],
      "execution_count": 17,
      "outputs": [
        {
          "output_type": "stream",
          "text": [
            "The Maximum values is 0.9900691691445314\n",
            "The Minimum values is 0.01254677289810291\n"
          ],
          "name": "stdout"
        }
      ]
    },
    {
      "cell_type": "markdown",
      "metadata": {
        "id": "MO3koDUJX9re"
      },
      "source": [
        "### 13) Create a random vector of size 30 and find the mean value"
      ]
    },
    {
      "cell_type": "code",
      "metadata": {
        "colab": {
          "base_uri": "https://localhost:8080/",
          "height": 0
        },
        "id": "xQOZWCWuYDWa",
        "outputId": "c359155d-8e75-43ce-c11e-cfdce25a0dd1"
      },
      "source": [
        "Z = np.random.random(10)\n",
        "m = Z.mean()\n",
        "print (m)"
      ],
      "execution_count": 18,
      "outputs": [
        {
          "output_type": "stream",
          "text": [
            "0.46590050793687876\n"
          ],
          "name": "stdout"
        }
      ]
    },
    {
      "cell_type": "markdown",
      "metadata": {
        "id": "DXKkQ8-jYPUD"
      },
      "source": [
        "### 14) Create a 2d array with 1 on the border and 0 inside"
      ]
    },
    {
      "cell_type": "code",
      "metadata": {
        "id": "I__BBfZ4YZ1P"
      },
      "source": [
        "Z = np.ones((10,10))\n",
        "Z[1:-1,1:-1]=0"
      ],
      "execution_count": 19,
      "outputs": []
    },
    {
      "cell_type": "markdown",
      "metadata": {
        "id": "HXk4F1qqYgIG"
      },
      "source": [
        "### 15) How to add a border (filled with 0's) around an existing array? "
      ]
    },
    {
      "cell_type": "code",
      "metadata": {
        "colab": {
          "base_uri": "https://localhost:8080/",
          "height": 0
        },
        "id": "e3fyjgRIYkPP",
        "outputId": "d59a083c-e474-45c3-bd08-91db74cad760"
      },
      "source": [
        "x = np.ones((3,3))\n",
        "print(\"Original array:\")\n",
        "print(x)\n",
        "print(\"0 on the border and 1 inside in the array\")\n",
        "x = np.pad(x, pad_width=1, mode='constant', constant_values=0)\n",
        "print(x)"
      ],
      "execution_count": 20,
      "outputs": [
        {
          "output_type": "stream",
          "text": [
            "Original array:\n",
            "[[1. 1. 1.]\n",
            " [1. 1. 1.]\n",
            " [1. 1. 1.]]\n",
            "0 on the border and 1 inside in the array\n",
            "[[0. 0. 0. 0. 0.]\n",
            " [0. 1. 1. 1. 0.]\n",
            " [0. 1. 1. 1. 0.]\n",
            " [0. 1. 1. 1. 0.]\n",
            " [0. 0. 0. 0. 0.]]\n"
          ],
          "name": "stdout"
        }
      ]
    },
    {
      "cell_type": "markdown",
      "metadata": {
        "id": "NUGkATduYkuN"
      },
      "source": [
        "### 16) How to Accessing/Changing specific elements, rows, columns, etc in Numpy array?"
      ]
    },
    {
      "cell_type": "code",
      "metadata": {
        "colab": {
          "base_uri": "https://localhost:8080/",
          "height": 0
        },
        "id": "o0EJ42bGZIYw",
        "outputId": "4e07a68c-906e-40c6-c0da-ffaa8eb1f71b"
      },
      "source": [
        "a = np.array([[ 1 ,2, 3, 4, 5, 6, 7], [ 8, 9, 10, 11, 12, 13, 14]])\n",
        "print(a)\n",
        "print(\"\\t\")\n",
        "print(a[1,5])\n",
        "print(\"\\t\")\n",
        "print(a[0])\n",
        "print(\"\\t\")\n",
        "print(a[:,2])\n",
        "print(\"\\t\")\n",
        "print(a[0,:][1:6:2])\n",
        "print(\"\\t\")\n",
        "a[1,5] = 20\n",
        "print(a)"
      ],
      "execution_count": 37,
      "outputs": [
        {
          "output_type": "stream",
          "text": [
            "[[ 1  2  3  4  5  6  7]\n",
            " [ 8  9 10 11 12 13 14]]\n",
            "\t\n",
            "13\n",
            "\t\n",
            "[1 2 3 4 5 6 7]\n",
            "\t\n",
            "[ 3 10]\n",
            "\t\n",
            "[2 4 6]\n",
            "\t\n",
            "[[ 1  2  3  4  5  6  7]\n",
            " [ 8  9 10 11 12 20 14]]\n"
          ],
          "name": "stdout"
        }
      ]
    },
    {
      "cell_type": "markdown",
      "metadata": {
        "id": "XBQTscFuaJSt"
      },
      "source": [
        "### 17) How to Convert a 1D array to a 2D array with 2 rows"
      ]
    },
    {
      "cell_type": "code",
      "metadata": {
        "id": "v1dNXEldaSDo"
      },
      "source": [
        "arr = np. array([0, 1, 2, 3, 4, 5, 6, 7, 8, 9])\n",
        "arr_2d = np. reshape(arr, (2, 5))\n",
        "print(arr_2d)"
      ],
      "execution_count": null,
      "outputs": []
    },
    {
      "cell_type": "markdown",
      "metadata": {
        "id": "FTngGeeSaZbP"
      },
      "source": [
        "### 18) Create the following pattern without hardcoding. Use only numpy functions and the below input array a"
      ]
    },
    {
      "cell_type": "code",
      "metadata": {
        "colab": {
          "base_uri": "https://localhost:8080/",
          "height": 0
        },
        "id": "zrGsK8HMa0Nq",
        "outputId": "a0aa531d-8cdb-4470-ebec-221b132cea0b"
      },
      "source": [
        "a = np.array([1,2,3])\n",
        "np.r_[np.repeat(a, 3), np.tile(a, 3)]"
      ],
      "execution_count": 24,
      "outputs": [
        {
          "output_type": "execute_result",
          "data": {
            "text/plain": [
              "array([1, 1, 1, 2, 2, 2, 3, 3, 3, 1, 2, 3, 1, 2, 3, 1, 2, 3])"
            ]
          },
          "metadata": {
            "tags": []
          },
          "execution_count": 24
        }
      ]
    },
    {
      "cell_type": "markdown",
      "metadata": {
        "id": "xiI6vXm9a9Ol"
      },
      "source": [
        "### 19) Write a program to show how Numpy taking less memory compared to Python List?"
      ]
    },
    {
      "cell_type": "code",
      "metadata": {
        "colab": {
          "base_uri": "https://localhost:8080/",
          "height": 0
        },
        "id": "Jq1SosG4a_2o",
        "outputId": "0901ce94-dee7-45a2-d195-b801b7325728"
      },
      "source": [
        "# importing numpy package\n",
        "import numpy as np\n",
        "\n",
        "# importing system module\n",
        "import sys\n",
        "\n",
        "# declaring a list of 1000 elements\n",
        "S= range(1000)\n",
        "\n",
        "# printing size of each element of the list\n",
        "print(\"Size of each element of list in bytes: \",sys.getsizeof(S))\n",
        "\n",
        "# printing size of the whole list\n",
        "print(\"Size of the whole list in bytes: \",sys.getsizeof(S)*len(S))\n",
        "\n",
        "# declaring a Numpy array of 1000 elements\n",
        "D= np.arange(1000)\n",
        "\n",
        "# printing size of each element of the Numpy array\n",
        "print(\"Size of each element of the Numpy array in bytes: \",D.itemsize)\n",
        "\n",
        "# printing size of the whole Numpy array\n",
        "print(\"Size of the whole Numpy array in bytes: \",D.size*D.itemsize)\n"
      ],
      "execution_count": 25,
      "outputs": [
        {
          "output_type": "stream",
          "text": [
            "Size of each element of list in bytes:  48\n",
            "Size of the whole list in bytes:  48000\n",
            "Size of each element of the Numpy array in bytes:  8\n",
            "Size of the whole Numpy array in bytes:  8000\n"
          ],
          "name": "stdout"
        }
      ]
    },
    {
      "cell_type": "markdown",
      "metadata": {
        "id": "u_kN6RVubYGk"
      },
      "source": [
        "### 20) Write a program to show how Numpy taking less time compared to Python List?"
      ]
    },
    {
      "cell_type": "code",
      "metadata": {
        "colab": {
          "base_uri": "https://localhost:8080/",
          "height": 0
        },
        "id": "WRACnnr7bctc",
        "outputId": "24999117-1c3d-4f17-cafc-d23af52becbd"
      },
      "source": [
        "# importing required packages\n",
        "import numpy\n",
        "import time\n",
        "\n",
        "# size of arrays and lists\n",
        "size = 1000000\n",
        "\n",
        "# declaring lists\n",
        "list1 = range(size)\n",
        "list2 = range(size)\n",
        "\n",
        "# declaring arrays\n",
        "array1 = numpy.arange(size)\n",
        "array2 = numpy.arange(size)\n",
        "\n",
        "# list\n",
        "initialTime = time.time()\n",
        "resultantList = [(a * b) for a, b in zip(list1, list2)]\n",
        "\n",
        "# calculating execution time\n",
        "print(\"Time taken by Lists :\",\n",
        "\t(time.time() - initialTime),\n",
        "\t\"seconds\")\n",
        "\n",
        "# NumPy array\n",
        "initialTime = time.time()\n",
        "resultantArray = array1 * array2\n",
        "\n",
        "# calculating execution time\n",
        "print(\"Time taken by NumPy Arrays :\",\n",
        "\t(time.time() - initialTime),\n",
        "\t\"seconds\")\n"
      ],
      "execution_count": 26,
      "outputs": [
        {
          "output_type": "stream",
          "text": [
            "Time taken by Lists : 0.131819486618042 seconds\n",
            "Time taken by NumPy Arrays : 0.003958225250244141 seconds\n"
          ],
          "name": "stdout"
        }
      ]
    }
  ]
}