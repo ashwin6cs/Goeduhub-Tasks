{
  "nbformat": 4,
  "nbformat_minor": 0,
  "metadata": {
    "colab": {
      "name": "Assignment1.ipynb",
      "provenance": [],
      "collapsed_sections": [],
      "authorship_tag": "ABX9TyPO5blu00i3mPB/+6wc71b+",
      "include_colab_link": true
    },
    "kernelspec": {
      "name": "python3",
      "display_name": "Python 3"
    },
    "language_info": {
      "name": "python"
    }
  },
  "cells": [
    {
      "cell_type": "markdown",
      "metadata": {
        "id": "view-in-github",
        "colab_type": "text"
      },
      "source": [
        "<a href=\"https://colab.research.google.com/github/ashwin6cs/Goeduhub-Tasks/blob/main/Assignment1.ipynb\" target=\"_parent\"><img src=\"https://colab.research.google.com/assets/colab-badge.svg\" alt=\"Open In Colab\"/></a>"
      ]
    },
    {
      "cell_type": "markdown",
      "metadata": {
        "id": "BfRaZFSiHhz5"
      },
      "source": [
        "# **GO_STP_5856** - **Ashwin S**"
      ]
    },
    {
      "cell_type": "markdown",
      "metadata": {
        "id": "TN5WmOONHz7V"
      },
      "source": [
        "## **Assignment-1**"
      ]
    },
    {
      "cell_type": "markdown",
      "metadata": {
        "id": "Voubq4Ft0yb-"
      },
      "source": [
        "1) We are having 3 list like this\n",
        "\n",
        "   Colors = [“Yellow”,”Green”,”White”,”Black”]\n",
        "\n",
        "   Fruits=[“Apple”,”Papaya”,”Mango”,”Orange”]\n",
        "\n",
        "   Animals=[“Tiger”,”Lion”,”Deer”,”Zebra”]"
      ]
    },
    {
      "cell_type": "markdown",
      "metadata": {
        "id": "TLPQB87z01NL"
      },
      "source": [
        "i) Write a program that asks user to enter a Color/Fruit/Animal name and it should tell which category belongs to , like its is a fruit or color or Animal"
      ]
    },
    {
      "cell_type": "code",
      "metadata": {
        "id": "KzfvSxwB07sX",
        "colab": {
          "base_uri": "https://localhost:8080/"
        },
        "outputId": "2884f226-7e71-4c89-d142-6d1e40a6d28f"
      },
      "source": [
        "colors = ['Yellow','Green','White','Black']\n",
        "fruits = ['Apple','Papaya','Mango','Orange']\n",
        "animals = ['Tiger','Lion','Deer','Zebra']\n",
        "entry = input(\"Enter any name:\")\n",
        "\n",
        "if entry in colors:\n",
        "  print(\"you have entered\",entry ,\"which is from colors\")\n",
        "elif entry in fruits:\n",
        "  print(\"you have entered\",entry ,\"which is from fruits\")\n",
        "elif entry in animals:\n",
        "  print(\"you have entered\",entry ,\"which is from animals\")\n",
        "else:\n",
        "  print(\"It does not belongs to any list\")"
      ],
      "execution_count": null,
      "outputs": [
        {
          "output_type": "stream",
          "text": [
            "Enter any name:Mango\n",
            "you have entered Mango which is from fruits\n"
          ],
          "name": "stdout"
        }
      ]
    },
    {
      "cell_type": "markdown",
      "metadata": {
        "id": "xap_WkGJGASU"
      },
      "source": [
        "ii. Write a program that asks user to enter two cities and it tells you if they both are in same country or not. For example if I enter yellow and Black, it will print \"Both are colors\" but if I enter yellow and Tiger it should print \"They don't belong to same category\""
      ]
    },
    {
      "cell_type": "code",
      "metadata": {
        "colab": {
          "base_uri": "https://localhost:8080/"
        },
        "id": "oDc_3Hc2GLCK",
        "outputId": "cb763306-d04e-4821-a09b-2b2d4d418711"
      },
      "source": [
        "colors = ['Yellow','Green','White','Black']\n",
        "fruits = ['Apple','Papaya','Mango','Orange']\n",
        "animals = ['Tiger','Lion','Deer','Zebra']\n",
        "\n",
        "entry1 = input('Choice one: ')\n",
        "entry2 = input('Choice two: ')\n",
        "\n",
        "if entry1 in colors and entry2 in colors:\n",
        "    print(\"Both the entries belongs to colors\")\n",
        "elif entry1 in fruits and entry2 in fruits:\n",
        "  print(\"Both the entries belongs to fruits\")\n",
        "elif entry1 in animals and entry2 in animals:\n",
        "  print(\"Both the entries belongs to animals\")\n",
        "else:\n",
        "  print(\"They belongs to different categories\")"
      ],
      "execution_count": null,
      "outputs": [
        {
          "output_type": "stream",
          "text": [
            "Choice one: Orange\n",
            "Choice two: Tiger\n",
            "They belongs to different categories\n"
          ],
          "name": "stdout"
        }
      ]
    },
    {
      "cell_type": "markdown",
      "metadata": {
        "id": "TcMlArWd1tRv"
      },
      "source": [
        "2.  Write a python program that can tell you if your grade score good or not . Normal Score range is 40 to 60.\n",
        "\n",
        "  i. Ask user to enter his score.\n",
        "\n",
        "  ii. If it is below 40 to 60 range then print that score is low\n",
        "\n",
        "  iii. If it is above 60 then print that it is good otherwise print that it is normal"
      ]
    },
    {
      "cell_type": "code",
      "metadata": {
        "id": "s6OqjCrt1zW7",
        "colab": {
          "base_uri": "https://localhost:8080/"
        },
        "outputId": "77de6e04-e9f6-4775-f467-9dc7eccf149e"
      },
      "source": [
        "score = float(input(\"Enter the score: \"))\n",
        "if(score<40):\n",
        "  print(\"The Score is low\")\n",
        "elif(score > 60):\n",
        "  print(\"The Score is good\")\n",
        "else:\n",
        "  print(\"The Score is normal\")"
      ],
      "execution_count": null,
      "outputs": [
        {
          "output_type": "stream",
          "text": [
            "Enter the score: 90\n",
            "The Score is good\n"
          ],
          "name": "stdout"
        }
      ]
    },
    {
      "cell_type": "markdown",
      "metadata": {
        "id": "ixXKRTqF27fx"
      },
      "source": [
        "3.  After appearing in exam 10 times you got this result,\n",
        "\n",
        "    result = [\"Pass\",\"Fail\",\"Fail\",\"Pass\",\"Fail\",\"Pass\",\"Pass\",\"Fail\",\"Fail\",   \"Fail\"]\n",
        "\n",
        "   Using for loop figure out how many times you got Pass"
      ]
    },
    {
      "cell_type": "code",
      "metadata": {
        "colab": {
          "base_uri": "https://localhost:8080/"
        },
        "id": "bUDvn2th3BlN",
        "outputId": "dd65695f-bed6-4157-ccb7-cb5ad1f31d74"
      },
      "source": [
        "result = [\"Pass\",\"Fail\",\"Fail\",\"Pass\",\"Fail\",\"Pass\",\"Pass\",\"Fail\",\"Fail\", \"Fail\"]\n",
        "n = 0 \n",
        "for i in result:\n",
        "  if(i==\"Pass\"):\n",
        "    n += 1\n",
        "print(\"{} times, I have passed the exam\".format(n))"
      ],
      "execution_count": null,
      "outputs": [
        {
          "output_type": "stream",
          "text": [
            "4 times, I have passed the exam\n"
          ],
          "name": "stdout"
        }
      ]
    },
    {
      "cell_type": "markdown",
      "metadata": {
        "id": "TYnAaGtK38Hs"
      },
      "source": [
        "4) Write a program that prints following shape\n",
        "\n"
      ]
    },
    {
      "cell_type": "code",
      "metadata": {
        "colab": {
          "base_uri": "https://localhost:8080/"
        },
        "id": "2kreYkWT4CF6",
        "outputId": "597b9476-a9ec-4b4d-e82d-990035b45f33"
      },
      "source": [
        "for i in range(1, 6):\n",
        "  print(\"* \" * i)\n",
        "  print(\"\\t\")\n",
        "  if(i==5):\n",
        "    for j in range(4, 0, -1):\n",
        "      print(\"* \"*j)\n",
        "      print(\"\\t\")\n",
        "\n",
        "     "
      ],
      "execution_count": null,
      "outputs": [
        {
          "output_type": "stream",
          "text": [
            "* \n",
            "\t\n",
            "* * \n",
            "\t\n",
            "* * * \n",
            "\t\n",
            "* * * * \n",
            "\t\n",
            "* * * * * \n",
            "\t\n",
            "* * * * \n",
            "\t\n",
            "* * * \n",
            "\t\n",
            "* * \n",
            "\t\n",
            "* \n",
            "\t\n"
          ],
          "name": "stdout"
        }
      ]
    },
    {
      "cell_type": "markdown",
      "metadata": {
        "id": "F5QtqBeY5Juz"
      },
      "source": [
        "5.   Lets say you are running a 50 km race. Write a program that,\n",
        "\n",
        "    Upon completing each 10 km asks you \"are you tired?\"\n",
        "    If you reply \"yes\" then it should break and print \"you didn't finish the race\"\n",
        "    If you reply \"no\" then it should continue and ask \"are you tired\" on every km\n",
        "    If you finish all 50 km then it should print congratulations message"
      ]
    },
    {
      "cell_type": "code",
      "metadata": {
        "colab": {
          "base_uri": "https://localhost:8080/"
        },
        "id": "80mvV8mS5Suc",
        "outputId": "ab1860dd-6f7f-41e5-8b59-1e09fb7cf661"
      },
      "source": [
        "n = 10\n",
        "for i in range(1, 51):\n",
        "   if(i==n):\n",
        "     n1 = input(\"Are you tired ? \")\n",
        "     if(n1 == \"Yes\"):\n",
        "       print(\"You didn't finish the race\")\n",
        "       break\n",
        "     elif(i==50):\n",
        "       print(\"Congratulations, you have finished the race!\")\n",
        "     elif(n1 == \"No\"):\n",
        "       n+=10"
      ],
      "execution_count": null,
      "outputs": [
        {
          "output_type": "stream",
          "text": [
            "Are you tired ? No\n",
            "Are you tired ? No\n",
            "Are you tired ? No\n",
            "Are you tired ? No\n",
            "Are you tired ? No\n",
            "Congratulations, you have finished the race!\n"
          ],
          "name": "stdout"
        }
      ]
    },
    {
      "cell_type": "markdown",
      "metadata": {
        "id": "He2FNspR8I5G"
      },
      "source": [
        "6.  Write a Python program to find those numbers which are divisible by 7 and    multiple of 5, between 1500 and 2700 (both included)."
      ]
    },
    {
      "cell_type": "code",
      "metadata": {
        "id": "uR8k08xx8OcC",
        "colab": {
          "base_uri": "https://localhost:8080/"
        },
        "outputId": "c02a21b4-dab2-4fd2-ee85-d65d58b0869d"
      },
      "source": [
        "for num in range(1500,2701):\n",
        "  if num % 7 == 0 and num % 5 == 0:\n",
        "    print(num, end=\" \")"
      ],
      "execution_count": null,
      "outputs": [
        {
          "output_type": "stream",
          "text": [
            "1505 1540 1575 1610 1645 1680 1715 1750 1785 1820 1855 1890 1925 1960 1995 2030 2065 2100 2135 2170 2205 2240 2275 2310 2345 2380 2415 2450 2485 2520 2555 2590 2625 2660 2695 "
          ],
          "name": "stdout"
        }
      ]
    },
    {
      "cell_type": "markdown",
      "metadata": {
        "id": "mjhOdzD19YAi"
      },
      "source": [
        "7) Print square of all numbers between 10 to 20 except even numbers"
      ]
    },
    {
      "cell_type": "code",
      "metadata": {
        "colab": {
          "base_uri": "https://localhost:8080/"
        },
        "id": "qZj7s_Jp9dF3",
        "outputId": "8ced3d9e-f11b-4778-f8e0-f778ea0869b2"
      },
      "source": [
        "for i in range(10,21):\n",
        "  if i%2 != 0:\n",
        "    print(i**2, end=\" \")"
      ],
      "execution_count": null,
      "outputs": [
        {
          "output_type": "stream",
          "text": [
            "121 169 225 289 361 "
          ],
          "name": "stdout"
        }
      ]
    },
    {
      "cell_type": "markdown",
      "metadata": {
        "id": "hi3nUVVe93Ak"
      },
      "source": [
        "8.  Your Marks for five Test(test1 to test5) looks like this,\n",
        "\n",
        "    marks_list = [65, 75, 2100, 95, 83]\n",
        "\n",
        "    Write a program that asks you to enter marks and program should tell you in which test that marks occurred. If marks is not found then it should print that as well."
      ]
    },
    {
      "cell_type": "code",
      "metadata": {
        "colab": {
          "base_uri": "https://localhost:8080/"
        },
        "id": "BhNK_HQF96qQ",
        "outputId": "16406ae8-1c7f-4418-df55-101446eb2c7c"
      },
      "source": [
        "marks_list = [65, 75, 2100, 95, 83]\n",
        "n = int(input(\"Enter the Mark: \"))\n",
        "for i in range(0, len(marks_list)):\n",
        "  if(n == marks_list[i]):\n",
        "    print(\"This marks is of Test\"+str(i+1))"
      ],
      "execution_count": null,
      "outputs": [
        {
          "output_type": "stream",
          "text": [
            "Enter the Mark: 2100\n",
            "This marks is of Test3\n"
          ],
          "name": "stdout"
        }
      ]
    }
  ]
}