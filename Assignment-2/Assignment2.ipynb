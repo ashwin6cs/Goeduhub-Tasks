{
  "nbformat": 4,
  "nbformat_minor": 0,
  "metadata": {
    "colab": {
      "name": "Assignment2.ipynb",
      "provenance": [],
      "collapsed_sections": [],
      "authorship_tag": "ABX9TyNLmWuTsu+q8qzaTSS1LGaY",
      "include_colab_link": true
    },
    "kernelspec": {
      "name": "python3",
      "display_name": "Python 3"
    },
    "language_info": {
      "name": "python"
    }
  },
  "cells": [
    {
      "cell_type": "markdown",
      "metadata": {
        "id": "view-in-github",
        "colab_type": "text"
      },
      "source": [
        "<a href=\"https://colab.research.google.com/github/ashwin6cs/Goeduhub-Tasks/blob/main/Assignment-2/Assignment2.ipynb\" target=\"_parent\"><img src=\"https://colab.research.google.com/assets/colab-badge.svg\" alt=\"Open In Colab\"/></a>"
      ]
    },
    {
      "cell_type": "markdown",
      "metadata": {
        "id": "qFPvFSlQb-dK"
      },
      "source": [
        "# **GO_STP_5856 - Ashwin S**"
      ]
    },
    {
      "cell_type": "markdown",
      "metadata": {
        "id": "1ReeRgjvcL6d"
      },
      "source": [
        "## Assignment-2"
      ]
    },
    {
      "cell_type": "markdown",
      "metadata": {
        "id": "yeubIcf8cSJh"
      },
      "source": [
        "1) Is a list mutable? "
      ]
    },
    {
      "cell_type": "code",
      "metadata": {
        "colab": {
          "base_uri": "https://localhost:8080/"
        },
        "id": "E66lREcDbzsU",
        "outputId": "f3ef6716-02ec-4fcd-e92b-f4fff5d3d1bc"
      },
      "source": [
        "# Yes, list is Mutable.\n",
        "\n",
        "a = [1,2,3,4,5]\n",
        "a[0] = 6\n",
        "a"
      ],
      "execution_count": null,
      "outputs": [
        {
          "output_type": "execute_result",
          "data": {
            "text/plain": [
              "[6, 2, 3, 4, 5]"
            ]
          },
          "metadata": {
            "tags": []
          },
          "execution_count": 1
        }
      ]
    },
    {
      "cell_type": "markdown",
      "metadata": {
        "id": "hCJiUpnOcyJJ"
      },
      "source": [
        "2) Does a list need to be homogeneous?"
      ]
    },
    {
      "cell_type": "code",
      "metadata": {
        "colab": {
          "base_uri": "https://localhost:8080/"
        },
        "id": "iZwFhNUuc4lC",
        "outputId": "1fd9443f-1c9b-43d7-d1e0-27d5b5327cb3"
      },
      "source": [
        "# It can be homogeneous and it is also heterogeneous.\n",
        "\n",
        "b = [1, 2.0, \"aaa\", True]\n",
        "b"
      ],
      "execution_count": null,
      "outputs": [
        {
          "output_type": "execute_result",
          "data": {
            "text/plain": [
              "[1, 2.0, 'aaa', True]"
            ]
          },
          "metadata": {
            "tags": []
          },
          "execution_count": 2
        }
      ]
    },
    {
      "cell_type": "markdown",
      "metadata": {
        "id": "nf_KnadwdziF"
      },
      "source": [
        "3) What is the difference between a list and a tuple."
      ]
    },
    {
      "cell_type": "code",
      "metadata": {
        "colab": {
          "base_uri": "https://localhost:8080/",
          "height": 229
        },
        "id": "MtUq_DgBd3JE",
        "outputId": "d880d9bd-2d66-474d-b5d8-97ad199b82be"
      },
      "source": [
        "# The main difference between list and tuple is where list is mutable and tuple is immutable.\n",
        "\n",
        "a1 = [1,2,3,4,5]\n",
        "a1[0] = 6\n",
        "print(a1)\n",
        "a2 = (1,2,3,4,5)\n",
        "a2[0] = 8\n",
        "print(a2) # it will raise an error..."
      ],
      "execution_count": null,
      "outputs": [
        {
          "output_type": "stream",
          "text": [
            "[6, 2, 3, 4, 5]\n"
          ],
          "name": "stdout"
        },
        {
          "output_type": "error",
          "ename": "TypeError",
          "evalue": "ignored",
          "traceback": [
            "\u001b[0;31m---------------------------------------------------------------------------\u001b[0m",
            "\u001b[0;31mTypeError\u001b[0m                                 Traceback (most recent call last)",
            "\u001b[0;32m<ipython-input-3-19a68b36d415>\u001b[0m in \u001b[0;36m<module>\u001b[0;34m()\u001b[0m\n\u001b[1;32m      5\u001b[0m \u001b[0mprint\u001b[0m\u001b[0;34m(\u001b[0m\u001b[0ma1\u001b[0m\u001b[0;34m)\u001b[0m\u001b[0;34m\u001b[0m\u001b[0;34m\u001b[0m\u001b[0m\n\u001b[1;32m      6\u001b[0m \u001b[0ma2\u001b[0m \u001b[0;34m=\u001b[0m \u001b[0;34m(\u001b[0m\u001b[0;36m1\u001b[0m\u001b[0;34m,\u001b[0m\u001b[0;36m2\u001b[0m\u001b[0;34m,\u001b[0m\u001b[0;36m3\u001b[0m\u001b[0;34m,\u001b[0m\u001b[0;36m4\u001b[0m\u001b[0;34m,\u001b[0m\u001b[0;36m5\u001b[0m\u001b[0;34m)\u001b[0m\u001b[0;34m\u001b[0m\u001b[0;34m\u001b[0m\u001b[0m\n\u001b[0;32m----> 7\u001b[0;31m \u001b[0ma2\u001b[0m\u001b[0;34m[\u001b[0m\u001b[0;36m0\u001b[0m\u001b[0;34m]\u001b[0m \u001b[0;34m=\u001b[0m \u001b[0;36m8\u001b[0m\u001b[0;34m\u001b[0m\u001b[0;34m\u001b[0m\u001b[0m\n\u001b[0m\u001b[1;32m      8\u001b[0m \u001b[0mprint\u001b[0m\u001b[0;34m(\u001b[0m\u001b[0ma2\u001b[0m\u001b[0;34m)\u001b[0m\u001b[0;34m\u001b[0m\u001b[0;34m\u001b[0m\u001b[0m\n",
            "\u001b[0;31mTypeError\u001b[0m: 'tuple' object does not support item assignment"
          ]
        }
      ]
    },
    {
      "cell_type": "markdown",
      "metadata": {
        "id": "1dOKqIXDeXoD"
      },
      "source": [
        "4) How to find the number of elements in the list?"
      ]
    },
    {
      "cell_type": "code",
      "metadata": {
        "colab": {
          "base_uri": "https://localhost:8080/"
        },
        "id": "n1E1oXoPefGF",
        "outputId": "ef1043e5-9e93-4413-efc2-12836d1f1a27"
      },
      "source": [
        "# Without using in-built\n",
        "a = [1,2,3,4,5]\n",
        "n=0\n",
        "for i in a:\n",
        "  n+=1\n",
        "print(n)\n",
        "\n",
        "# using in-built\n",
        "len(a)"
      ],
      "execution_count": null,
      "outputs": [
        {
          "output_type": "stream",
          "text": [
            "5\n"
          ],
          "name": "stdout"
        },
        {
          "output_type": "execute_result",
          "data": {
            "text/plain": [
              "5"
            ]
          },
          "metadata": {
            "tags": []
          },
          "execution_count": 6
        }
      ]
    },
    {
      "cell_type": "markdown",
      "metadata": {
        "id": "Ux0tsk45fLuw"
      },
      "source": [
        "5) How to check whether the list is empty or not?"
      ]
    },
    {
      "cell_type": "code",
      "metadata": {
        "colab": {
          "base_uri": "https://localhost:8080/"
        },
        "id": "sut7xrGpfQYX",
        "outputId": "2325c592-d427-4ff6-fae4-03e67c3dbf37"
      },
      "source": [
        "a = []\n",
        "if(len(a)):\n",
        "  print(\"List is not empty\")\n",
        "else:\n",
        "  print(\"List is empty\")"
      ],
      "execution_count": null,
      "outputs": [
        {
          "output_type": "stream",
          "text": [
            "List is empty\n"
          ],
          "name": "stdout"
        }
      ]
    },
    {
      "cell_type": "markdown",
      "metadata": {
        "id": "JjPeivgIgLy1"
      },
      "source": [
        "6) How to find the first and last element of the list?"
      ]
    },
    {
      "cell_type": "code",
      "metadata": {
        "colab": {
          "base_uri": "https://localhost:8080/"
        },
        "id": "8K11nyfggPcw",
        "outputId": "233afb95-cb9e-4d08-d8e3-21a82374ef72"
      },
      "source": [
        "a = [1,2,3,4,5]\n",
        "print(\"The First element of the list is\",a[0])\n",
        "print(\"The Lat element of the list is\",a[len(a)-1])"
      ],
      "execution_count": null,
      "outputs": [
        {
          "output_type": "stream",
          "text": [
            "The First element of the list is 1\n",
            "The Lat element of the list is 5\n"
          ],
          "name": "stdout"
        }
      ]
    },
    {
      "cell_type": "markdown",
      "metadata": {
        "id": "kGu3JFqugpU4"
      },
      "source": [
        "7) How to find the largest and lowest value in the list?"
      ]
    },
    {
      "cell_type": "code",
      "metadata": {
        "colab": {
          "base_uri": "https://localhost:8080/"
        },
        "id": "vTY6FHMCgtbJ",
        "outputId": "0c90af58-58ba-4a7b-99d9-4b54908b7694"
      },
      "source": [
        "a = [34, 56,12, 9, 5, 3, 45]\n",
        "print(\"The largest value in the list is\",max(a))\n",
        "print(\"The lowest value in the list is\",min(a))"
      ],
      "execution_count": null,
      "outputs": [
        {
          "output_type": "stream",
          "text": [
            "The largest value in the list is 56\n",
            "The lowest value in the list is 3\n"
          ],
          "name": "stdout"
        }
      ]
    },
    {
      "cell_type": "markdown",
      "metadata": {
        "id": "tos-Y44FhXdO"
      },
      "source": [
        "8) How to access elements of the list?"
      ]
    },
    {
      "cell_type": "code",
      "metadata": {
        "colab": {
          "base_uri": "https://localhost:8080/"
        },
        "id": "iPmrjCDWhc-E",
        "outputId": "0a6cb82e-3468-499e-f5f7-64a6146bba9a"
      },
      "source": [
        "# By using indexing or slicing.\n",
        "a =[1,2,3,4,5]\n",
        "print(a[3])\n",
        "print(a[1:3])"
      ],
      "execution_count": null,
      "outputs": [
        {
          "output_type": "stream",
          "text": [
            "4\n",
            "[2, 3]\n"
          ],
          "name": "stdout"
        }
      ]
    },
    {
      "cell_type": "markdown",
      "metadata": {
        "id": "Je0RI4Xehr50"
      },
      "source": [
        "9) Remove elements in a list before a specific index"
      ]
    },
    {
      "cell_type": "code",
      "metadata": {
        "colab": {
          "base_uri": "https://localhost:8080/"
        },
        "id": "gys6YxnthyWL",
        "outputId": "f6ae5222-b17f-400f-c39d-4214e6bbe22a"
      },
      "source": [
        "a = [1,2,3,4,5,6,7]\n",
        "index = int(input(\"Specify the index: \"))\n",
        "del a[0:index]\n",
        "print(a)"
      ],
      "execution_count": null,
      "outputs": [
        {
          "output_type": "stream",
          "text": [
            "Specify the index: 5\n",
            "[6, 7]\n"
          ],
          "name": "stdout"
        }
      ]
    },
    {
      "cell_type": "markdown",
      "metadata": {
        "id": "ni4ryUd9oLcm"
      },
      "source": [
        "10) Remove elements in a list between 2 indices"
      ]
    },
    {
      "cell_type": "code",
      "metadata": {
        "colab": {
          "base_uri": "https://localhost:8080/"
        },
        "id": "-VuHHRfRoReJ",
        "outputId": "ce91663a-eaf0-44c6-f1d7-36c734135093"
      },
      "source": [
        "a = [2,6,7,9,13,56,19,34,67]\n",
        "n = input(\"Enter the starting & ending index: \").split(\",\")\n",
        "del a[int(n[0])+1:int(n[1])]\n",
        "print(a)"
      ],
      "execution_count": null,
      "outputs": [
        {
          "output_type": "stream",
          "text": [
            "Enter the starting & ending index: 2,7\n",
            "[2, 6, 7, 34, 67]\n"
          ],
          "name": "stdout"
        }
      ]
    },
    {
      "cell_type": "markdown",
      "metadata": {
        "id": "WN9AET6wqJVV"
      },
      "source": [
        "11) Return every 2nd element in a list between 2 indices"
      ]
    },
    {
      "cell_type": "code",
      "metadata": {
        "id": "Yu2wls8KqNft",
        "colab": {
          "base_uri": "https://localhost:8080/"
        },
        "outputId": "40b08519-3f96-49d2-d793-ce9690930f9a"
      },
      "source": [
        "a = [2,6,7,9,13,56,19,34,67]\n",
        "n = input(\"Enter the starting & ending index: \").split(\",\")\n",
        "n1 = a[int(n[0])+1:int(n[1])]\n",
        "print(\"The sliced list: \",n1)\n",
        "print(n1[1])"
      ],
      "execution_count": null,
      "outputs": [
        {
          "output_type": "stream",
          "text": [
            "Enter the starting & ending index: 2,7\n",
            "The sliced list:  [9, 13, 56, 19]\n",
            "13\n"
          ],
          "name": "stdout"
        }
      ]
    },
    {
      "cell_type": "markdown",
      "metadata": {
        "id": "UmuMg8iNq6NF"
      },
      "source": [
        "12) Get the first element from each nested list in a list"
      ]
    },
    {
      "cell_type": "code",
      "metadata": {
        "colab": {
          "base_uri": "https://localhost:8080/"
        },
        "id": "Y52oeA8WrCbm",
        "outputId": "800eea3b-2fc5-4694-d969-8a32e74be260"
      },
      "source": [
        "a=[[1,2,3],[4,5,6],[7,8,9]]\n",
        "for i in a:\n",
        "  print(i[0])"
      ],
      "execution_count": null,
      "outputs": [
        {
          "output_type": "stream",
          "text": [
            "1\n",
            "4\n",
            "7\n"
          ],
          "name": "stdout"
        }
      ]
    },
    {
      "cell_type": "markdown",
      "metadata": {
        "id": "CVMCkEUprbf_"
      },
      "source": [
        "13) How to modify elements of the list?"
      ]
    },
    {
      "cell_type": "code",
      "metadata": {
        "colab": {
          "base_uri": "https://localhost:8080/"
        },
        "id": "F7TsyTdergiU",
        "outputId": "d55690b9-2839-42ed-b434-f54274a09f28"
      },
      "source": [
        "a = [1,2,3,4,5,6,7,8,9]\n",
        "a[2] = 10\n",
        "a[4:6]=11,12\n",
        "a.pop(0)\n",
        "a.insert(1,33)\n",
        "a.remove(10)\n",
        "a"
      ],
      "execution_count": null,
      "outputs": [
        {
          "output_type": "execute_result",
          "data": {
            "text/plain": [
              "[2, 33, 4, 11, 12, 7, 8, 9]"
            ]
          },
          "metadata": {
            "tags": []
          },
          "execution_count": 39
        }
      ]
    },
    {
      "cell_type": "markdown",
      "metadata": {
        "id": "fVez_MKxsLlr"
      },
      "source": [
        "14) How to concatenate two lists?"
      ]
    },
    {
      "cell_type": "code",
      "metadata": {
        "colab": {
          "base_uri": "https://localhost:8080/"
        },
        "id": "IJIGqVCAsQDo",
        "outputId": "00f7145c-1ac4-484c-e1fd-a33618c624cf"
      },
      "source": [
        "a1 = [1,2,3]\n",
        "a2 = [4,5,6]\n",
        "print(a1+a2)\n",
        "\n",
        "b1 = [1,2,3]\n",
        "b2 = [4,5,6]\n",
        "for i in b2:\n",
        "  b1.append(i)\n",
        "print(b1)\n",
        "\n",
        "c1 = [1,2,3]\n",
        "c2 = [4,5,6]\n",
        "c1.extend(c2)\n",
        "print(c1)"
      ],
      "execution_count": null,
      "outputs": [
        {
          "output_type": "stream",
          "text": [
            "[1, 2, 3, 4, 5, 6]\n",
            "[1, 2, 3, 4, 5, 6]\n",
            "[1, 2, 3, 4, 5, 6]\n"
          ],
          "name": "stdout"
        }
      ]
    },
    {
      "cell_type": "markdown",
      "metadata": {
        "id": "5kB87XJguBC0"
      },
      "source": [
        "15) How to add two lists element-wise in python?"
      ]
    },
    {
      "cell_type": "code",
      "metadata": {
        "colab": {
          "base_uri": "https://localhost:8080/"
        },
        "id": "UAk04SvCuEfq",
        "outputId": "d862e228-b355-4dbf-a45b-20aa598e3fad"
      },
      "source": [
        "a1 = [1,2,3,4,5]\n",
        "a2 = [6,7,8,9,10]\n",
        "sum = []\n",
        "for i in range(0,len(a1)):\n",
        "   n = a1[i]+a2[i]\n",
        "   sum.append(n)\n",
        "print(sum)"
      ],
      "execution_count": null,
      "outputs": [
        {
          "output_type": "stream",
          "text": [
            "[7, 9, 11, 13, 15]\n"
          ],
          "name": "stdout"
        }
      ]
    },
    {
      "cell_type": "markdown",
      "metadata": {
        "id": "8WSKk3RIvEvI"
      },
      "source": [
        "16) Difference between del and clear?"
      ]
    },
    {
      "cell_type": "code",
      "metadata": {
        "colab": {
          "base_uri": "https://localhost:8080/"
        },
        "id": "dCkbI0udvI29",
        "outputId": "0dd5ebf8-c8d0-432c-fba1-fe33bd507457"
      },
      "source": [
        "a1 = [1,2,3,4,5]\n",
        "del a1[1]\n",
        "print(a1)\n",
        "\n",
        "a2 = [3,4,5,6,7,8]\n",
        "a2.clear()\n",
        "print(a2)"
      ],
      "execution_count": null,
      "outputs": [
        {
          "output_type": "stream",
          "text": [
            "[1, 3, 4, 5]\n",
            "[]\n"
          ],
          "name": "stdout"
        }
      ]
    },
    {
      "cell_type": "markdown",
      "metadata": {
        "id": "hr-ReNGBwXH0"
      },
      "source": [
        "17) Difference between remove and pop?"
      ]
    },
    {
      "cell_type": "code",
      "metadata": {
        "colab": {
          "base_uri": "https://localhost:8080/"
        },
        "id": "dluxsF4gwZ3D",
        "outputId": "d87c815f-4d48-4e1b-b995-f3e637040f7e"
      },
      "source": [
        "a1 = [1,2,3,4,5]\n",
        "a1.remove(3)\n",
        "print(a1)\n",
        "\n",
        "a2 = [3,4,5,6,7,8]\n",
        "print(a2.pop())\n",
        "print(a2.pop(1))"
      ],
      "execution_count": null,
      "outputs": [
        {
          "output_type": "stream",
          "text": [
            "[1, 2, 4, 5]\n",
            "8\n",
            "4\n"
          ],
          "name": "stdout"
        }
      ]
    },
    {
      "cell_type": "markdown",
      "metadata": {
        "id": "bePqfjF8w5Lh"
      },
      "source": [
        "18) Difference between append and extend?"
      ]
    },
    {
      "cell_type": "code",
      "metadata": {
        "colab": {
          "base_uri": "https://localhost:8080/"
        },
        "id": "4InVUj4Ww9rQ",
        "outputId": "84deeb28-e82a-485a-d29b-7e1509851e20"
      },
      "source": [
        "a1 = [1,2,3,4,5] \n",
        "a1.append(6)\n",
        "print(a1)\n",
        "\n",
        "a1.extend([7,8,9,10,11])\n",
        "print(a1)"
      ],
      "execution_count": null,
      "outputs": [
        {
          "output_type": "stream",
          "text": [
            "[1, 2, 3, 4, 5, 6]\n",
            "[1, 2, 3, 4, 5, 6, 7, 8, 9, 10, 11]\n"
          ],
          "name": "stdout"
        }
      ]
    },
    {
      "cell_type": "markdown",
      "metadata": {
        "id": "mth0PPudxinl"
      },
      "source": [
        "19) Difference between indexing and Slicing?"
      ]
    },
    {
      "cell_type": "code",
      "metadata": {
        "colab": {
          "base_uri": "https://localhost:8080/"
        },
        "id": "c0J5Mi4SxnHp",
        "outputId": "3300dc10-096f-4fd6-9f95-634c80b21e4d"
      },
      "source": [
        "a1 = [1,2,3,4,5] \n",
        "print(a1[0])\n",
        "print(a1[1:4])"
      ],
      "execution_count": null,
      "outputs": [
        {
          "output_type": "stream",
          "text": [
            "1\n",
            "[2, 3, 4]\n"
          ],
          "name": "stdout"
        }
      ]
    },
    {
      "cell_type": "markdown",
      "metadata": {
        "id": "PIDJkih8xwJN"
      },
      "source": [
        "20) Difference between sort and sorted?"
      ]
    },
    {
      "cell_type": "code",
      "metadata": {
        "colab": {
          "base_uri": "https://localhost:8080/"
        },
        "id": "8n813LDXx0C3",
        "outputId": "697382d1-6594-4269-895e-c2767cc05353"
      },
      "source": [
        "a1 = [7,1,0,9,5,13,56,19,34,67]\n",
        "print(\"Sorted list\",sorted(a1))\n",
        "print(\"Original list\", a1)\n",
        "\n",
        "print(\"\\t\")\n",
        "a1 = [7,1,0,9,5,13,56,19,34,67]\n",
        "a1.sort()\n",
        "print(\"Sorted list\",a1)\n",
        "print(\"Original list\", a1)"
      ],
      "execution_count": null,
      "outputs": [
        {
          "output_type": "stream",
          "text": [
            "Sorted list [0, 1, 5, 7, 9, 13, 19, 34, 56, 67]\n",
            "Original list [7, 1, 0, 9, 5, 13, 56, 19, 34, 67]\n",
            "\t\n",
            "Sorted list [0, 1, 5, 7, 9, 13, 19, 34, 56, 67]\n",
            "Original list [0, 1, 5, 7, 9, 13, 19, 34, 56, 67]\n"
          ],
          "name": "stdout"
        }
      ]
    },
    {
      "cell_type": "markdown",
      "metadata": {
        "id": "ar2nF8y1zfaF"
      },
      "source": [
        "21) Difference between reverse and reversed?"
      ]
    },
    {
      "cell_type": "code",
      "metadata": {
        "colab": {
          "base_uri": "https://localhost:8080/"
        },
        "id": "eJnoSOG1ziog",
        "outputId": "04f4525d-bdc8-4e79-9bc0-dff295d638c7"
      },
      "source": [
        "countries = ['India', 'USA', 'China', 'Japan', 'UK']\n",
        "print('Original List of Countries:', countries)\n",
        "\n",
        "# List Reverse\n",
        "countries.reverse()\n",
        "\n",
        "# updated list\n",
        "print('Updated List of Countries:', countries)\n",
        "print(\"\\t\")\n",
        "seqList = [1, 2, 4, 3, 5]\n",
        "print(\"Using Reversed: \",list(reversed(seqList)))"
      ],
      "execution_count": null,
      "outputs": [
        {
          "output_type": "stream",
          "text": [
            "Original List of Countries: ['India', 'USA', 'China', 'Japan', 'UK']\n",
            "Updated List of Countries: ['UK', 'Japan', 'China', 'USA', 'India']\n",
            "\t\n",
            "Using Reversed:  [5, 3, 4, 2, 1]\n"
          ],
          "name": "stdout"
        }
      ]
    },
    {
      "cell_type": "markdown",
      "metadata": {
        "id": "8JQ9uWVd0_P9"
      },
      "source": [
        "22) Difference between copy and deepcopy?"
      ]
    },
    {
      "cell_type": "code",
      "metadata": {
        "id": "dearI1so1E37",
        "colab": {
          "base_uri": "https://localhost:8080/"
        },
        "outputId": "b3befeea-68c2-461f-9f3e-e9035ca92305"
      },
      "source": [
        "import copy\n",
        "list1 = [ 1, [2, 3] , 4 ]\n",
        "list2 = list1.copy()\n",
        "list3 = copy.deepcopy(list1)\n",
        "list1.append(5)\n",
        "list1[1][1] = 999\n",
        "print(\"list 1 after modification:\\n\", list1)\n",
        "print(\"list 2 after modification:\\n\", list2)\n",
        "print(\"list 3 after modification:\\n\", list3)"
      ],
      "execution_count": null,
      "outputs": [
        {
          "output_type": "stream",
          "text": [
            "list 1 after modification:\n",
            " [1, [2, 999], 4, 5]\n",
            "list 2 after modification:\n",
            " [1, [2, 999], 4]\n",
            "list 3 after modification:\n",
            " [1, [2, 3], 4]\n"
          ],
          "name": "stdout"
        }
      ]
    },
    {
      "cell_type": "markdown",
      "metadata": {
        "id": "D1UvD7MMGTbC"
      },
      "source": [
        "23) How to remove duplicate elements in the list?"
      ]
    },
    {
      "cell_type": "code",
      "metadata": {
        "colab": {
          "base_uri": "https://localhost:8080/"
        },
        "id": "WkLA9heaN16y",
        "outputId": "f9c06ac0-7339-48fe-931c-6e85bc72a109"
      },
      "source": [
        "a1 = [1,2,2,3,3,3,4,4,4,4,5,5,5,5,5]\n",
        "print(list(set(a1)))"
      ],
      "execution_count": null,
      "outputs": [
        {
          "output_type": "stream",
          "text": [
            "[1, 2, 3, 4, 5]\n"
          ],
          "name": "stdout"
        }
      ]
    },
    {
      "cell_type": "markdown",
      "metadata": {
        "id": "ZVtkrXyOOM2O"
      },
      "source": [
        "24) How to find an index of an element in the python list?"
      ]
    },
    {
      "cell_type": "code",
      "metadata": {
        "colab": {
          "base_uri": "https://localhost:8080/"
        },
        "id": "koCEkKZ9Oaos",
        "outputId": "5b22a930-a121-4284-aec2-666cbb5b945a"
      },
      "source": [
        "a = [5,6,7,8,9,10,11,12]\n",
        "a.index(10)"
      ],
      "execution_count": null,
      "outputs": [
        {
          "output_type": "execute_result",
          "data": {
            "text/plain": [
              "5"
            ]
          },
          "metadata": {
            "tags": []
          },
          "execution_count": 14
        }
      ]
    },
    {
      "cell_type": "markdown",
      "metadata": {
        "id": "ULuSoBs_O6cq"
      },
      "source": [
        "25) How to find the occurrences of an element in the python list?"
      ]
    },
    {
      "cell_type": "code",
      "metadata": {
        "colab": {
          "base_uri": "https://localhost:8080/"
        },
        "id": "J7r5WgPhO-vZ",
        "outputId": "fa43af0e-f41b-4489-9776-daaa1f225096"
      },
      "source": [
        "a1 = [8, 6, 8, 10, 8, 20, 10, 8, 8]\n",
        "dict = {}\n",
        "for i in a1:\n",
        "  if(i not in dict):\n",
        "     dict[i] = a1.count(i)\n",
        "print(dict)"
      ],
      "execution_count": null,
      "outputs": [
        {
          "output_type": "stream",
          "text": [
            "{8: 5, 6: 1, 10: 2, 20: 1}\n"
          ],
          "name": "stdout"
        }
      ]
    },
    {
      "cell_type": "markdown",
      "metadata": {
        "id": "HX8BOs8BQbbL"
      },
      "source": [
        "26) How to insert an item at a given position?"
      ]
    },
    {
      "cell_type": "code",
      "metadata": {
        "colab": {
          "base_uri": "https://localhost:8080/"
        },
        "id": "2bWtgwQEQfEK",
        "outputId": "9c43d698-695f-45cf-e222-62c4ff5f6ef3"
      },
      "source": [
        "n1 = int(input(\"Enter the index: \"))\n",
        "n2 = int(input(\"Enter the element: \"))\n",
        "a=[5,6,7,8,9]\n",
        "a.insert(n1,n2)\n",
        "print(a)"
      ],
      "execution_count": null,
      "outputs": [
        {
          "output_type": "stream",
          "text": [
            "Enter the index: 3\n",
            "Enter the element: 23\n",
            "[5, 6, 7, 23, 8, 9]\n"
          ],
          "name": "stdout"
        }
      ]
    },
    {
      "cell_type": "markdown",
      "metadata": {
        "id": "WWevaGMIRRsi"
      },
      "source": [
        "27) How to check if an item is in the list?"
      ]
    },
    {
      "cell_type": "code",
      "metadata": {
        "colab": {
          "base_uri": "https://localhost:8080/"
        },
        "id": "4hms-CaPRVSz",
        "outputId": "e0833756-4717-4fba-a0a3-d6adba841830"
      },
      "source": [
        "n = int(input(\"Enter the number to be checked: \"))\n",
        "a = [3,8,1,2,89,45,23,99]\n",
        "if(n in a):\n",
        "  print(\"The given item is present in the list\")\n",
        "else:\n",
        "  print(\"The given item is not present in the list\")"
      ],
      "execution_count": null,
      "outputs": [
        {
          "output_type": "stream",
          "text": [
            "Enter the number to be checked: 99\n",
            "The given item is present in the list\n"
          ],
          "name": "stdout"
        }
      ]
    },
    {
      "cell_type": "markdown",
      "metadata": {
        "id": "RAmHXdf8SBKD"
      },
      "source": [
        "28) How to flatten a list in python?"
      ]
    },
    {
      "cell_type": "code",
      "metadata": {
        "colab": {
          "base_uri": "https://localhost:8080/"
        },
        "id": "ZROe5qpISHuO",
        "outputId": "b474b33b-6adc-4d8b-f09e-a98385be642f"
      },
      "source": [
        "import numpy as np\n",
        "a=[[1,2,3],[4,5,6],[7,8,9]]\n",
        "a1 = np.array(a).ravel()\n",
        "print(list(a1))"
      ],
      "execution_count": null,
      "outputs": [
        {
          "output_type": "stream",
          "text": [
            "[1, 2, 3, 4, 5, 6, 7, 8, 9]\n"
          ],
          "name": "stdout"
        }
      ]
    },
    {
      "cell_type": "markdown",
      "metadata": {
        "id": "bLN-rf9VS9YP"
      },
      "source": [
        "29) How to convert python list to other data structures like set, tuple, dictionary?"
      ]
    },
    {
      "cell_type": "code",
      "metadata": {
        "colab": {
          "base_uri": "https://localhost:8080/"
        },
        "id": "5NWpoqksTAvm",
        "outputId": "53b1b49e-33af-449d-aa26-d90939551774"
      },
      "source": [
        "a1 = [3,8,1,2,89,45,23,99]\n",
        "print(tuple(a1))\n",
        "print(set(a1))\n",
        "\n",
        "a2 = ['a', 1, 'b', 2, 'c', 3,'d', 5]\n",
        "dict = {}\n",
        "for i in range(0, len(a2), 2):\n",
        "  dict[a2[i]] = a2[i+1]\n",
        "print(dict)"
      ],
      "execution_count": null,
      "outputs": [
        {
          "output_type": "stream",
          "text": [
            "(3, 8, 1, 2, 89, 45, 23, 99)\n",
            "{1, 2, 3, 99, 8, 45, 23, 89}\n",
            "{'a': 1, 'b': 2, 'c': 3, 'd': 5}\n"
          ],
          "name": "stdout"
        }
      ]
    },
    {
      "cell_type": "markdown",
      "metadata": {
        "id": "8CnG-bRCU3Hn"
      },
      "source": [
        "30) How to apply a function to all items in the list?"
      ]
    },
    {
      "cell_type": "code",
      "metadata": {
        "colab": {
          "base_uri": "https://localhost:8080/"
        },
        "id": "aHugURBgU8JR",
        "outputId": "3c264862-735d-40d2-f914-6ae2082fb4a0"
      },
      "source": [
        "# map method\n",
        "def square(integer):\n",
        "    return integer**2\n",
        "  \n",
        "print(list(map(square, [5,6,7,8,9])))\n",
        "\n",
        "# list comprehension\n",
        "def square(integer):\n",
        "    return integer**2\n",
        "  \n",
        "print([square(i) for i in [5,6,7,8,9]])\n",
        "\n",
        "# Using Lambda Function\n",
        "lst = [1, 2, 3]\n",
        "ans = []\n",
        "for x in lst:\n",
        "    def res(x): return x*2\n",
        "    ans.append(res(x))\n",
        "print(ans)"
      ],
      "execution_count": null,
      "outputs": [
        {
          "output_type": "stream",
          "text": [
            "[25, 36, 49, 64, 81]\n",
            "[25, 36, 49, 64, 81]\n",
            "[2, 4, 6]\n"
          ],
          "name": "stdout"
        }
      ]
    },
    {
      "cell_type": "markdown",
      "metadata": {
        "id": "HP7bwLqzXJ5Q"
      },
      "source": [
        "31) How to filter the elements based on a function in a python list?"
      ]
    },
    {
      "cell_type": "code",
      "metadata": {
        "colab": {
          "base_uri": "https://localhost:8080/"
        },
        "id": "suTPBMZ6XNfh",
        "outputId": "03028ed8-349d-4699-f621-01143f0a7609"
      },
      "source": [
        "print(list(filter(lambda x: x % 2 == 0, [0, 1, 2, 3, 5, 8, 13])))"
      ],
      "execution_count": null,
      "outputs": [
        {
          "output_type": "stream",
          "text": [
            "[0, 2, 8]\n"
          ],
          "name": "stdout"
        }
      ]
    },
    {
      "cell_type": "markdown",
      "metadata": {
        "id": "WXOt0cEmXm8i"
      },
      "source": [
        "32) How python lists are stored in memory?"
      ]
    },
    {
      "cell_type": "markdown",
      "metadata": {
        "id": "rD5vTmXIX8NS"
      },
      "source": [
        "Lists are stored in distinct chunks of memory which are linked together with pointers, which enables efficient use of memory generally and doesn't require resizing. ... Arrays, by contrast, are stored in sequential slabs of contiguous memory of fixed size, which enables efficient indexing and random access."
      ]
    },
    {
      "cell_type": "markdown",
      "metadata": {
        "id": "wnL9DhdUYEZk"
      },
      "source": [
        "## **Thank You...**"
      ]
    }
  ]
}