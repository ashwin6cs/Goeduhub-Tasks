{
  "nbformat": 4,
  "nbformat_minor": 0,
  "metadata": {
    "colab": {
      "name": "Assignment3.ipynb",
      "provenance": [],
      "collapsed_sections": [],
      "authorship_tag": "ABX9TyNqofERzQOmPZfRnK1+CYJe",
      "include_colab_link": true
    },
    "kernelspec": {
      "name": "python3",
      "display_name": "Python 3"
    },
    "language_info": {
      "name": "python"
    }
  },
  "cells": [
    {
      "cell_type": "markdown",
      "metadata": {
        "id": "view-in-github",
        "colab_type": "text"
      },
      "source": [
        "<a href=\"https://colab.research.google.com/github/ashwin6cs/Goeduhub-Tasks/blob/main/Assignment-3/Assignment3.ipynb\" target=\"_parent\"><img src=\"https://colab.research.google.com/assets/colab-badge.svg\" alt=\"Open In Colab\"/></a>"
      ]
    },
    {
      "cell_type": "markdown",
      "metadata": {
        "id": "S4zHmc5Sw5Ox"
      },
      "source": [
        "# **GO_STP_5856 - Ashwin S**"
      ]
    },
    {
      "cell_type": "markdown",
      "metadata": {
        "id": "GfmIro-snPNM"
      },
      "source": [
        "## Assignment - 3"
      ]
    },
    {
      "cell_type": "markdown",
      "metadata": {
        "id": "5SI232E5w7sv"
      },
      "source": [
        "**Q.1 Write a Python Program to sort (ascending and descending) a dictionary by value**"
      ]
    },
    {
      "cell_type": "code",
      "metadata": {
        "colab": {
          "base_uri": "https://localhost:8080/"
        },
        "id": "pI-DijUIw1aV",
        "outputId": "448149d6-098c-404f-d112-7bc6ae8b1c58"
      },
      "source": [
        "import operator\n",
        "d = {1: 2, 3: 4, 4: 3, 2: 1, 0: 0}\n",
        "print('Original dictionary : ',d)\n",
        "sorted_d = sorted(d.items(), key=operator.itemgetter(1))\n",
        "print('Dictionary in ascending order by value : ',sorted_d)\n",
        "sorted_d = dict( sorted(d.items(), key=operator.itemgetter(1),reverse=True))\n",
        "print('Dictionary in descending order by value : ',sorted_d)"
      ],
      "execution_count": null,
      "outputs": [
        {
          "output_type": "stream",
          "text": [
            "Original dictionary :  {1: 2, 3: 4, 4: 3, 2: 1, 0: 0}\n",
            "Dictionary in ascending order by value :  [(0, 0), (2, 1), (1, 2), (4, 3), (3, 4)]\n",
            "Dictionary in descending order by value :  {3: 4, 4: 3, 1: 2, 2: 1, 0: 0}\n"
          ],
          "name": "stdout"
        }
      ]
    },
    {
      "cell_type": "markdown",
      "metadata": {
        "id": "lzPwlmKa0ZtY"
      },
      "source": [
        "**Q.2 Write a Python Program to add a key to a dictionary.** \n",
        "\n",
        "Sample Dictionary : {0: 10, 1: 20}\n",
        "\n",
        "Expected Result : {0: 10, 1: 20, 2: 30}"
      ]
    },
    {
      "cell_type": "code",
      "metadata": {
        "colab": {
          "base_uri": "https://localhost:8080/"
        },
        "id": "-z1CcUz_0cKF",
        "outputId": "2041ea48-8d7f-48d9-928e-68a637047b2c"
      },
      "source": [
        "dict = {0: 10, 1: 20}\n",
        "print(\"Sample Dictionary : \",dict)\n",
        "dict[2] = 30\n",
        "print(\"Expected Result : \",dict)"
      ],
      "execution_count": null,
      "outputs": [
        {
          "output_type": "stream",
          "text": [
            "Sample Dictionary :  {0: 10, 1: 20}\n",
            "Expected Result :  {0: 10, 1: 20, 2: 30}\n"
          ],
          "name": "stdout"
        }
      ]
    },
    {
      "cell_type": "markdown",
      "metadata": {
        "id": "Fgo9IARx1MPp"
      },
      "source": [
        "**Q.3 Write a  program asks for City name and Temperature and builds a dictionary using that Later on you can input City name and it will tell you the Temperature of that City.**"
      ]
    },
    {
      "cell_type": "code",
      "metadata": {
        "colab": {
          "base_uri": "https://localhost:8080/"
        },
        "id": "vSNXy_QL1PoD",
        "outputId": "2b917cd0-be71-4b1d-952b-ca6a2a64660c"
      },
      "source": [
        "dict = {}\n",
        "for i in range(3):\n",
        "   n1, n2 = input(\"Enter the city name and temperature: \").split(\",\")\n",
        "   dict[n1] = n2\n",
        "\n",
        "x = input(\"Enter the City name for which temperature to be known: \")\n",
        "print(\"The temperature of the city {} is {}\".format(x,dict[x]))  \n",
        "\n",
        "#  delhi,39   chennai,40   mumbai,30"
      ],
      "execution_count": null,
      "outputs": [
        {
          "output_type": "stream",
          "text": [
            "Enter the city name and temperature: delhi,39 \n",
            "Enter the city name and temperature: chennai,40 \n",
            "Enter the city name and temperature: mumbai,30\n",
            "Enter the City name for which temperature to be known: chennai\n",
            "The temperature of the city chennai is 40 \n"
          ],
          "name": "stdout"
        }
      ]
    },
    {
      "cell_type": "markdown",
      "metadata": {
        "id": "CKutMAAL4OoO"
      },
      "source": [
        "**Q. 4 Write a Python program to convert list to list of dictionaries.**\n",
        "\n",
        "Sample lists: [\"Black\", \"Red\", \"Maroon\", \"Yellow\"], [\"#000000\", \"#FF0000\", \"#800000\", \"#FFFF00\"]\n",
        "\n",
        "Expected Output: [{'color_name': 'Black', 'color_code': '#000000'}, {'color_name': 'Red', 'color_code': '#FF0000'}, {'color_name': 'Maroon', 'color_code': '#800000'}, {'color_name': 'Yellow', 'color_code': '#FFFF00'}]"
      ]
    },
    {
      "cell_type": "code",
      "metadata": {
        "colab": {
          "base_uri": "https://localhost:8080/"
        },
        "id": "d8Mtm-8w4Uqi",
        "outputId": "b8339f70-b1b5-48e2-91ba-1bb02b506704"
      },
      "source": [
        "color_name = [\"Black\", \"Red\", \"Maroon\", \"Yellow\"]\n",
        "color_code = [\"#000000\", \"#FF0000\", \"#800000\", \"#FFFF00\"]\n",
        "print([{'color_name': f, 'color_code': c} for f, c in zip(color_name, color_code)])"
      ],
      "execution_count": null,
      "outputs": [
        {
          "output_type": "stream",
          "text": [
            "[{'color_name': 'Black', 'color_code': '#000000'}, {'color_name': 'Red', 'color_code': '#FF0000'}, {'color_name': 'Maroon', 'color_code': '#800000'}, {'color_name': 'Yellow', 'color_code': '#FFFF00'}]\n"
          ],
          "name": "stdout"
        }
      ]
    },
    {
      "cell_type": "markdown",
      "metadata": {
        "id": "yaFMt5935mia"
      },
      "source": [
        "**Q. 5 We have following information on Employees and their Salary (Salary is in lakhs),**"
      ]
    },
    {
      "cell_type": "markdown",
      "metadata": {
        "id": "fSkaXOJq56FT"
      },
      "source": [
        "Using above create a dictionary of Employees and their Salary\n",
        "Write a program that asks user for three type of inputs,\n",
        "print: if user enter print then it should print all Employees with their Salary in this format,\n",
        "\n",
        "John ==>14\n",
        "\n",
        "Smith ==>13\n",
        "\n",
        "Alice ==>32\n",
        "\n",
        "Daneil ==>21\n",
        "\n",
        "add: if user input adds then it should further ask for an Employee name to add. If Employee already exists in our dataset then it should print that it exists and do nothing. If it doesn't then it asks for Salary and add that new Employee/Salary in our dictionary and print it\n",
        "remove: when user inputs remove it should ask for an Employee to remove. If an Employee exists in our dictionary then remove it and print a new dictionary using format shown above in (a). Else print that Employee doesn't exist!\n",
        "query: on this again ask the user for which Employee he or she wants to query. When a user inputs that Employee it will print the Salary of that Employee."
      ]
    },
    {
      "cell_type": "code",
      "metadata": {
        "id": "VdP9zpgG58RG",
        "colab": {
          "base_uri": "https://localhost:8080/"
        },
        "outputId": "2f3908ff-35c3-4392-b85a-f16970575b49"
      },
      "source": [
        "dict = {\"John\":14,\"Smith\":13,\"Alice\":32,\"Daniel\":21}\n",
        "opt = input(\"Enter the operation to be performed: \")\n",
        "if(opt==\"print\"):\n",
        "  for i,j in dict.items():\n",
        "      print(\"{} ==> {}\".format(i,j))\n",
        "elif(opt==\"add\"):\n",
        "  name = input(\"Enter the name: \")\n",
        "  salary = int(input(\"Enter the salary: \"))\n",
        "  if(name in dict):\n",
        "    print(\"Employee already exist in the database\")\n",
        "  else:\n",
        "    dict[name] = salary\n",
        "  print(dict)\n",
        "elif(opt==\"remove\"):\n",
        "  name1 = input(\"Enter the name: \")\n",
        "  if(name1 not in dict):\n",
        "    print(\"Employee does not exist...\")\n",
        "  else:\n",
        "    dict.pop(name1)\n",
        "    print(dict)\n",
        "elif(opt==\"query\"):\n",
        "  name2 = input(\"Enter the name: \")\n",
        "  if(name2 not in dict):\n",
        "    print(\"Employee does not exist...\")\n",
        "  else:\n",
        "    print(\"The salary of the employee {} is {} \".format(name2,dict[name2]))"
      ],
      "execution_count": null,
      "outputs": [
        {
          "output_type": "stream",
          "text": [
            "Enter the operation to be performed: query\n",
            "Enter the name: Alice\n",
            "The salary of the employee Alice is 32 \n"
          ],
          "name": "stdout"
        }
      ]
    },
    {
      "cell_type": "markdown",
      "metadata": {
        "id": "4aGVjCpqSnev"
      },
      "source": [
        "**Q.1 What is the difference between a set and a frozenset? Create any set and try to use frozenset(setname).**"
      ]
    },
    {
      "cell_type": "markdown",
      "metadata": {
        "id": "fUdJrcbMbctq"
      },
      "source": [
        "1) set is mutable can be modified                                   \n",
        "\n",
        "2) set an also be used as keys in dictionary"
      ]
    },
    {
      "cell_type": "markdown",
      "metadata": {
        "id": "IPbCG4GSb9I_"
      },
      "source": [
        "1) Frozen Set is immutable version of a python object\n",
        "\n",
        "2) Frozen set can be used as keys in dictionary or as elements of another set"
      ]
    },
    {
      "cell_type": "markdown",
      "metadata": {
        "id": "dYNn0n9qb9Md"
      },
      "source": [
        "**Q.2 Find the elements in a given set that are not in another set**\n",
        "\n",
        "    set1 = {10,20,30,40,50}\n",
        "\n",
        "    set2 = {40,50,60,70,80}\n",
        "\n",
        " Difference between set1 and set2 is {10,20,30}"
      ]
    },
    {
      "cell_type": "code",
      "metadata": {
        "colab": {
          "base_uri": "https://localhost:8080/"
        },
        "id": "2BF4Cm7ecBEZ",
        "outputId": "c79d6104-816c-4078-f617-5e150aa1bd58"
      },
      "source": [
        "set1 = {10,20,30,40,50}\n",
        "set2 = {40,50,60,70,80}\n",
        "print(\"Difference between set1 and set2 is\",set1-set2)"
      ],
      "execution_count": null,
      "outputs": [
        {
          "output_type": "stream",
          "text": [
            "Difference between set1 and set2 is {10, 20, 30}\n"
          ],
          "name": "stdout"
        }
      ]
    }
  ]
}