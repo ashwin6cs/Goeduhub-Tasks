{
  "nbformat": 4,
  "nbformat_minor": 0,
  "metadata": {
    "colab": {
      "name": "Assignment7.ipynb",
      "provenance": [],
      "collapsed_sections": [],
      "toc_visible": true,
      "authorship_tag": "ABX9TyNSFrRnJNPFmNyXPtv98nkv",
      "include_colab_link": true
    },
    "kernelspec": {
      "name": "python3",
      "display_name": "Python 3"
    },
    "language_info": {
      "name": "python"
    }
  },
  "cells": [
    {
      "cell_type": "markdown",
      "metadata": {
        "id": "view-in-github",
        "colab_type": "text"
      },
      "source": [
        "<a href=\"https://colab.research.google.com/github/ashwin6cs/Goeduhub-Tasks/blob/main/Assignment-7/Assignment7.ipynb\" target=\"_parent\"><img src=\"https://colab.research.google.com/assets/colab-badge.svg\" alt=\"Open In Colab\"/></a>"
      ]
    },
    {
      "cell_type": "markdown",
      "metadata": {
        "id": "PjjSIwLo3bX6"
      },
      "source": [
        "# **GO_STP_5856 - Ashwin S**"
      ]
    },
    {
      "cell_type": "markdown",
      "metadata": {
        "id": "V179CL-13bbT"
      },
      "source": [
        "# Assignment-7"
      ]
    },
    {
      "cell_type": "markdown",
      "metadata": {
        "id": "peHswqPc3n64"
      },
      "source": [
        "Prediction using Supervised Machine Learning using Simple Linear Regression\n",
        "\n",
        "In this task we have to find the students scores based on their study hours. This is a simple Regression problem type because it has only two variables"
      ]
    },
    {
      "cell_type": "code",
      "metadata": {
        "id": "Bus_foxT3q5p"
      },
      "source": [
        "import pandas as pd\n",
        "import numpy as np\n",
        "import matplotlib.pyplot as plt\n",
        "import seaborn as sns\n",
        "from sklearn import preprocessing\n",
        "from sklearn.model_selection import train_test_split \n",
        "from sklearn.linear_model import LinearRegression\n",
        "from sklearn.metrics import mean_squared_error, mean_absolute_error, r2_score, accuracy_score"
      ],
      "execution_count": 1,
      "outputs": []
    },
    {
      "cell_type": "markdown",
      "metadata": {
        "id": "AHeRdJBM7Aml"
      },
      "source": [
        "# Reading the data"
      ]
    },
    {
      "cell_type": "code",
      "metadata": {
        "id": "oNbFVU5l3uGO"
      },
      "source": [
        "df = pd.read_csv(\"/content/StudentHoursScores.csv\")  # Reading the dataset..."
      ],
      "execution_count": 2,
      "outputs": []
    },
    {
      "cell_type": "markdown",
      "metadata": {
        "id": "Mq_UaKzd7FIo"
      },
      "source": [
        "# Analysing the data"
      ]
    },
    {
      "cell_type": "code",
      "metadata": {
        "colab": {
          "base_uri": "https://localhost:8080/",
          "height": 195
        },
        "id": "nNVH8Ilk4GAJ",
        "outputId": "34eed3d3-86fc-43b9-922b-7aa198dc3f5b"
      },
      "source": [
        "df.head()       "
      ],
      "execution_count": 3,
      "outputs": [
        {
          "output_type": "execute_result",
          "data": {
            "text/html": [
              "<div>\n",
              "<style scoped>\n",
              "    .dataframe tbody tr th:only-of-type {\n",
              "        vertical-align: middle;\n",
              "    }\n",
              "\n",
              "    .dataframe tbody tr th {\n",
              "        vertical-align: top;\n",
              "    }\n",
              "\n",
              "    .dataframe thead th {\n",
              "        text-align: right;\n",
              "    }\n",
              "</style>\n",
              "<table border=\"1\" class=\"dataframe\">\n",
              "  <thead>\n",
              "    <tr style=\"text-align: right;\">\n",
              "      <th></th>\n",
              "      <th>Hours</th>\n",
              "      <th>Scores</th>\n",
              "    </tr>\n",
              "  </thead>\n",
              "  <tbody>\n",
              "    <tr>\n",
              "      <th>0</th>\n",
              "      <td>7.7</td>\n",
              "      <td>79</td>\n",
              "    </tr>\n",
              "    <tr>\n",
              "      <th>1</th>\n",
              "      <td>5.9</td>\n",
              "      <td>60</td>\n",
              "    </tr>\n",
              "    <tr>\n",
              "      <th>2</th>\n",
              "      <td>4.5</td>\n",
              "      <td>45</td>\n",
              "    </tr>\n",
              "    <tr>\n",
              "      <th>3</th>\n",
              "      <td>3.3</td>\n",
              "      <td>33</td>\n",
              "    </tr>\n",
              "    <tr>\n",
              "      <th>4</th>\n",
              "      <td>1.1</td>\n",
              "      <td>12</td>\n",
              "    </tr>\n",
              "  </tbody>\n",
              "</table>\n",
              "</div>"
            ],
            "text/plain": [
              "   Hours  Scores\n",
              "0    7.7      79\n",
              "1    5.9      60\n",
              "2    4.5      45\n",
              "3    3.3      33\n",
              "4    1.1      12"
            ]
          },
          "metadata": {
            "tags": []
          },
          "execution_count": 3
        }
      ]
    },
    {
      "cell_type": "code",
      "metadata": {
        "colab": {
          "base_uri": "https://localhost:8080/",
          "height": 195
        },
        "id": "STE_Q7WQ4LCL",
        "outputId": "f2ee1980-7547-4118-e2be-b55841c24655"
      },
      "source": [
        "df.tail()     "
      ],
      "execution_count": 4,
      "outputs": [
        {
          "output_type": "execute_result",
          "data": {
            "text/html": [
              "<div>\n",
              "<style scoped>\n",
              "    .dataframe tbody tr th:only-of-type {\n",
              "        vertical-align: middle;\n",
              "    }\n",
              "\n",
              "    .dataframe tbody tr th {\n",
              "        vertical-align: top;\n",
              "    }\n",
              "\n",
              "    .dataframe thead th {\n",
              "        text-align: right;\n",
              "    }\n",
              "</style>\n",
              "<table border=\"1\" class=\"dataframe\">\n",
              "  <thead>\n",
              "    <tr style=\"text-align: right;\">\n",
              "      <th></th>\n",
              "      <th>Hours</th>\n",
              "      <th>Scores</th>\n",
              "    </tr>\n",
              "  </thead>\n",
              "  <tbody>\n",
              "    <tr>\n",
              "      <th>18</th>\n",
              "      <td>9.6</td>\n",
              "      <td>96</td>\n",
              "    </tr>\n",
              "    <tr>\n",
              "      <th>19</th>\n",
              "      <td>4.3</td>\n",
              "      <td>42</td>\n",
              "    </tr>\n",
              "    <tr>\n",
              "      <th>20</th>\n",
              "      <td>4.1</td>\n",
              "      <td>40</td>\n",
              "    </tr>\n",
              "    <tr>\n",
              "      <th>21</th>\n",
              "      <td>3.0</td>\n",
              "      <td>30</td>\n",
              "    </tr>\n",
              "    <tr>\n",
              "      <th>22</th>\n",
              "      <td>2.6</td>\n",
              "      <td>25</td>\n",
              "    </tr>\n",
              "  </tbody>\n",
              "</table>\n",
              "</div>"
            ],
            "text/plain": [
              "    Hours  Scores\n",
              "18    9.6      96\n",
              "19    4.3      42\n",
              "20    4.1      40\n",
              "21    3.0      30\n",
              "22    2.6      25"
            ]
          },
          "metadata": {
            "tags": []
          },
          "execution_count": 4
        }
      ]
    },
    {
      "cell_type": "code",
      "metadata": {
        "colab": {
          "base_uri": "https://localhost:8080/"
        },
        "id": "50UlH9gG4LE5",
        "outputId": "02265d6d-5f79-4b5f-e5e5-1a9d5c9f7379"
      },
      "source": [
        "df.isnull().sum()  "
      ],
      "execution_count": 5,
      "outputs": [
        {
          "output_type": "execute_result",
          "data": {
            "text/plain": [
              "Hours     0\n",
              "Scores    0\n",
              "dtype: int64"
            ]
          },
          "metadata": {
            "tags": []
          },
          "execution_count": 5
        }
      ]
    },
    {
      "cell_type": "markdown",
      "metadata": {
        "id": "GeDW8ofv4xHE"
      },
      "source": [
        "# Visualizing the data"
      ]
    },
    {
      "cell_type": "code",
      "metadata": {
        "colab": {
          "base_uri": "https://localhost:8080/",
          "height": 377
        },
        "id": "lH-YkCa64LId",
        "outputId": "5b1e224a-28f8-4e80-83b2-da583b7ceb1f"
      },
      "source": [
        "df.plot(x='Hours', y='Scores', style='o', figsize=(10, 5))      \n",
        "plt.title('Hours vs Percentage',color=\"#FBB917\", size=20)     \n",
        "plt.xlabel('Hours Studied', color=\"red\",size=15)                    \n",
        "plt.ylabel('Percentage Score', color=\"red\",size=15)                                        "
      ],
      "execution_count": 6,
      "outputs": [
        {
          "output_type": "execute_result",
          "data": {
            "text/plain": [
              "Text(0, 0.5, 'Percentage Score')"
            ]
          },
          "metadata": {
            "tags": []
          },
          "execution_count": 6
        },
        {
          "output_type": "display_data",
          "data": {
            "image/png": "[encoded data removed]",
            "text/plain": [
              "<Figure size 720x360 with 1 Axes>"
            ]
          },
          "metadata": {
            "tags": [],
            "needs_background": "light"
          }
        }
      ]
    },
    {
      "cell_type": "markdown",
      "metadata": {
        "id": "3c4fA0vB5DSg"
      },
      "source": [
        "# Data preprocessing"
      ]
    },
    {
      "cell_type": "code",
      "metadata": {
        "id": "wDtezbAA4LM9"
      },
      "source": [
        "X = df.iloc[:, :-1].values    \n",
        "y = df.iloc[:, 1].values "
      ],
      "execution_count": 7,
      "outputs": []
    },
    {
      "cell_type": "markdown",
      "metadata": {
        "id": "adT2Mp-I56rW"
      },
      "source": [
        "# Model Training"
      ]
    },
    {
      "cell_type": "code",
      "metadata": {
        "colab": {
          "base_uri": "https://localhost:8080/"
        },
        "id": "Ob3b5rhH4LPw",
        "outputId": "6359a26e-1bf9-442f-aa87-8bc069f22fc6"
      },
      "source": [
        "X_train, X_test, y_train, y_test = train_test_split(X, y, test_size=0.2, random_state=0) \n",
        "regressor = LinearRegression()  \n",
        "regressor.fit(X_train, y_train) \n",
        "print(\"Training complete.\")"
      ],
      "execution_count": 8,
      "outputs": [
        {
          "output_type": "stream",
          "text": [
            "Training complete.\n"
          ],
          "name": "stdout"
        }
      ]
    },
    {
      "cell_type": "markdown",
      "metadata": {
        "id": "0f3RK8za6DPV"
      },
      "source": [
        "# Plotting the line of Regression:"
      ]
    },
    {
      "cell_type": "code",
      "metadata": {
        "colab": {
          "base_uri": "https://localhost:8080/",
          "height": 323
        },
        "id": "tUxWWMEe4LSe",
        "outputId": "76cf7ba7-12aa-4653-a6ee-c4c735f02647"
      },
      "source": [
        "line = regressor.coef_*X+regressor.intercept_\n",
        "# Plotting for the test data\n",
        "plt.figure(figsize=(10, 5))\n",
        "plt.scatter(X, y, s=40)\n",
        "plt.plot(X, line, color=\"red\")\n",
        "plt.show()"
      ],
      "execution_count": 9,
      "outputs": [
        {
          "output_type": "display_data",
          "data": {
            "image/png": "[encoded data removed]",
            "text/plain": [
              "<Figure size 720x360 with 1 Axes>"
            ]
          },
          "metadata": {
            "tags": [],
            "needs_background": "light"
          }
        }
      ]
    },
    {
      "cell_type": "markdown",
      "metadata": {
        "id": "YILs9Y4d6Ti5"
      },
      "source": [
        "# Making Predictions"
      ]
    },
    {
      "cell_type": "code",
      "metadata": {
        "colab": {
          "base_uri": "https://localhost:8080/"
        },
        "id": "ev2JYq-Z4LV9",
        "outputId": "e434d3cc-3649-4ce0-accb-9c5b694a680a"
      },
      "source": [
        "print(X_test) # Testing data - In Hours\n",
        "y_pred = regressor.predict(X_test) "
      ],
      "execution_count": 10,
      "outputs": [
        {
          "output_type": "stream",
          "text": [
            "[[9.2]\n",
            " [5.5]\n",
            " [3. ]\n",
            " [8.5]\n",
            " [4.1]]\n"
          ],
          "name": "stdout"
        }
      ]
    },
    {
      "cell_type": "markdown",
      "metadata": {
        "id": "d9RG3et26Zip"
      },
      "source": [
        "# Comparing Actual vs Predicted values\n"
      ]
    },
    {
      "cell_type": "code",
      "metadata": {
        "colab": {
          "base_uri": "https://localhost:8080/",
          "height": 195
        },
        "id": "ROrt32lQ6biQ",
        "outputId": "89e48516-356e-44ea-9f7a-2a81a9ae84a2"
      },
      "source": [
        "df1 = pd.DataFrame({'Actual': y_test, 'Predicted': y_pred})  \n",
        "df1"
      ],
      "execution_count": 11,
      "outputs": [
        {
          "output_type": "execute_result",
          "data": {
            "text/html": [
              "<div>\n",
              "<style scoped>\n",
              "    .dataframe tbody tr th:only-of-type {\n",
              "        vertical-align: middle;\n",
              "    }\n",
              "\n",
              "    .dataframe tbody tr th {\n",
              "        vertical-align: top;\n",
              "    }\n",
              "\n",
              "    .dataframe thead th {\n",
              "        text-align: right;\n",
              "    }\n",
              "</style>\n",
              "<table border=\"1\" class=\"dataframe\">\n",
              "  <thead>\n",
              "    <tr style=\"text-align: right;\">\n",
              "      <th></th>\n",
              "      <th>Actual</th>\n",
              "      <th>Predicted</th>\n",
              "    </tr>\n",
              "  </thead>\n",
              "  <tbody>\n",
              "    <tr>\n",
              "      <th>0</th>\n",
              "      <td>88</td>\n",
              "      <td>91.818828</td>\n",
              "    </tr>\n",
              "    <tr>\n",
              "      <th>1</th>\n",
              "      <td>58</td>\n",
              "      <td>54.569310</td>\n",
              "    </tr>\n",
              "    <tr>\n",
              "      <th>2</th>\n",
              "      <td>30</td>\n",
              "      <td>29.400718</td>\n",
              "    </tr>\n",
              "    <tr>\n",
              "      <th>3</th>\n",
              "      <td>85</td>\n",
              "      <td>84.771622</td>\n",
              "    </tr>\n",
              "    <tr>\n",
              "      <th>4</th>\n",
              "      <td>40</td>\n",
              "      <td>40.474898</td>\n",
              "    </tr>\n",
              "  </tbody>\n",
              "</table>\n",
              "</div>"
            ],
            "text/plain": [
              "   Actual  Predicted\n",
              "0      88  91.818828\n",
              "1      58  54.569310\n",
              "2      30  29.400718\n",
              "3      85  84.771622\n",
              "4      40  40.474898"
            ]
          },
          "metadata": {
            "tags": []
          },
          "execution_count": 11
        }
      ]
    },
    {
      "cell_type": "code",
      "metadata": {
        "colab": {
          "base_uri": "https://localhost:8080/"
        },
        "id": "tJAQPdVW6fN4",
        "outputId": "711ad462-02c0-478f-d129-ff5857f64bda"
      },
      "source": [
        "print(\"Training Score: \",regressor.score(X_train, y_train))\n",
        "print(\"Test Score: \",regressor.score(X_test, y_test))"
      ],
      "execution_count": 12,
      "outputs": [
        {
          "output_type": "stream",
          "text": [
            "Training Score:  0.9959881759446586\n",
            "Test Score:  0.9900509060111311\n"
          ],
          "name": "stdout"
        }
      ]
    },
    {
      "cell_type": "markdown",
      "metadata": {
        "id": "5GTjovYh6jHN"
      },
      "source": [
        "# Predicting Values"
      ]
    },
    {
      "cell_type": "code",
      "metadata": {
        "colab": {
          "base_uri": "https://localhost:8080/"
        },
        "id": "0QEKLmrE6kgR",
        "outputId": "f5549e91-4573-4400-a56e-1e0c3ed413b6"
      },
      "source": [
        "n = float(input(\"Enter the Number of Hours: \"))\n",
        "own_pred = regressor.predict(np.array([n]).reshape(-1,1)) # Asking the input and converting it into an numpy array and reshaping it and predicting the value using regressor    \n",
        "print(\"No of Hours = {}\\nPredicted Score = {}\".format(n,own_pred[0]))  # Printing the values of hours and Predicted Score.\n",
        "print(\"Hence if a student studies for {0} Hours then his score will be {1:.2f}%\".format(n,own_pred[0]))"
      ],
      "execution_count": 13,
      "outputs": [
        {
          "output_type": "stream",
          "text": [
            "Enter the Number of Hours: 8.0\n",
            "No of Hours = 8.0\n",
            "Predicted Score = 79.73790331736336\n",
            "Hence if a student studies for 8.0 Hours then his score will be 79.74%\n"
          ],
          "name": "stdout"
        }
      ]
    },
    {
      "cell_type": "markdown",
      "metadata": {
        "id": "E2VPlwrZ60uj"
      },
      "source": [
        "# Evaluation"
      ]
    },
    {
      "cell_type": "code",
      "metadata": {
        "colab": {
          "base_uri": "https://localhost:8080/"
        },
        "id": "J_pbAzax632I",
        "outputId": "c50ae419-0fea-4752-ab5f-5caa7537f30f"
      },
      "source": [
        "print(\"Mean Squared Error: \",mean_squared_error(y_test, y_pred))\n",
        "print(\"Mean Absolute Error: \",mean_absolute_error(y_test, y_pred)) \n",
        "print(\"Root Mean Squared Error: \",np.sqrt(mean_absolute_error(y_test, y_pred)))\n",
        "print(\"R - 2: \",r2_score(y_test, y_pred))"
      ],
      "execution_count": 14,
      "outputs": [
        {
          "output_type": "stream",
          "text": [
            "Mean Squared Error:  5.397980434600632\n",
            "Mean Absolute Error:  1.7104152948388986\n",
            "Root Mean Squared Error:  1.3078284653726187\n",
            "R - 2:  0.9900509060111312\n"
          ],
          "name": "stdout"
        }
      ]
    }
  ]
}